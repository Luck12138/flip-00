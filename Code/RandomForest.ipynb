{
 "cells": [
  {
   "cell_type": "code",
   "execution_count": 1,
   "id": "b19f369e",
   "metadata": {},
   "outputs": [],
   "source": [
    "import matplotlib.pyplot as plt\n",
    "import numpy as np\n",
    "import pandas as pd\n",
    "import seaborn as sns\n",
    "import re\n",
    "import time\n",
    "import datetime\n",
    "from collections import defaultdict\n",
    "import ast"
   ]
  },
  {
   "cell_type": "code",
   "execution_count": 2,
   "id": "b6b5aa0a",
   "metadata": {},
   "outputs": [],
   "source": [
    "train_data = pd.read_csv('../data/train.csv')"
   ]
  },
  {
   "cell_type": "code",
   "execution_count": 3,
   "id": "8bd4ac98",
   "metadata": {},
   "outputs": [],
   "source": [
    "train_data['runtime']=train_data['runtime'].fillna(train_data['runtime'].mean())"
   ]
  },
  {
   "cell_type": "code",
   "execution_count": 4,
   "id": "d13bfc67",
   "metadata": {},
   "outputs": [],
   "source": [
    "train_data.drop(columns=['belongs_to_collection','homepage'],axis = 1 ,inplace=True)\n",
    "train_data.drop(columns=['imdb_id', 'poster_path','tagline', 'overview', 'original_title','Keywords' ,'crew'],axis = 1 ,inplace=True)"
   ]
  },
  {
   "cell_type": "code",
   "execution_count": 5,
   "id": "a948ab9e",
   "metadata": {},
   "outputs": [],
   "source": [
    "#Extract release_date\n",
    "train_data[['release_month', 'release_day', 'release_year']] = train_data['release_date'].str.split('/', expand = True).replace(np.nan, -1)"
   ]
  },
  {
   "cell_type": "code",
   "execution_count": 6,
   "id": "99124129",
   "metadata": {},
   "outputs": [],
   "source": [
    "#Extract release_date\n",
    "train_data[['release_month', 'release_day', 'release_year']] = train_data['release_date'].str.split('/', expand = True).replace(np.nan, -1)\n",
    "train_data['release_month'] = train_data['release_month'].astype(int)\n",
    "train_data['release_day'] = train_data['release_day'].astype(int)\n",
    "train_data['release_year'] = train_data['release_year'].astype(int)\n",
    "train_data['day_of_Week'] = (pd.to_datetime(train_data[\"release_date\"]).dt.dayofweek)\n",
    "train_data.loc[(train_data['release_year'] <= 19) & (train_data['release_year'] < 100), \"release_year\"] += 2000\n",
    "train_data.loc[(train_data['release_year'] > 19)  & (train_data['release_year'] < 100), \"release_year\"] += 1900   "
   ]
  },
  {
   "cell_type": "code",
   "execution_count": 7,
   "id": "4670cf0d",
   "metadata": {},
   "outputs": [],
   "source": [
    "train_data['log_revenue'] = np.log(train_data['revenue'])"
   ]
  },
  {
   "cell_type": "code",
   "execution_count": 8,
   "id": "59e8c7cc",
   "metadata": {},
   "outputs": [],
   "source": [
    "# feature_names = ['release_year', 'release_day', 'release_month',\n",
    "#                  'budget', 'popularity', 'runtime']\n",
    "feature_names = ['release_year', 'release_day', 'release_month',\n",
    "                 'budget', 'popularity', 'runtime']"
   ]
  },
  {
   "cell_type": "code",
   "execution_count": 9,
   "id": "9149cc0b",
   "metadata": {},
   "outputs": [],
   "source": [
    "X_data=train_data[feature_names]\n",
    "y_data=np.array(train_data['log_revenue'])"
   ]
  },
  {
   "cell_type": "code",
   "execution_count": 13,
   "id": "e1d931af",
   "metadata": {},
   "outputs": [
    {
     "name": "stdout",
     "output_type": "stream",
     "text": [
      "MAE： 1.4898738044207505\n",
      "训练集： 0.9257577080449605\n",
      "测试集： 0.47338279186712506\n"
     ]
    }
   ],
   "source": [
    "from sklearn.model_selection import train_test_split\n",
    "from sklearn.ensemble import RandomForestRegressor\n",
    "from sklearn.metrics import mean_absolute_error,mean_squared_error,\n",
    "\n",
    "X_train,X_test,y_train,y_test=train_test_split(X_data,y_data,test_size=0.2, random_state=0)\n",
    "\n",
    "rf=RandomForestRegressor(n_estimators=100, random_state=0)\n",
    "rf.fit(X_train,y_train)\n",
    "y_pre = rf.predict(X_test)\n",
    "\n",
    "# Calculate MAE \n",
    "mae_rf = mean_absolute_error(y_pre, y_test)\n",
    "train_score = rf.score(X_train,y_train)\n",
    "test_score=rf.score(X_test,y_test)\n",
    "print(\"MAE：\", mae_rf)\n",
    "print(\"训练集：\", train_score)# 训练的准确率\n",
    "print(\"测试集：\", test_score)  # 测试的准确率"
   ]
  },
  {
   "cell_type": "code",
   "execution_count": 14,
   "id": "0ea1b5fc",
   "metadata": {},
   "outputs": [
    {
     "data": {
      "text/plain": [
       "2.136353784189668"
      ]
     },
     "execution_count": 14,
     "metadata": {},
     "output_type": "execute_result"
    }
   ],
   "source": [
    "rfr_rmse= mean_squared_error(y_test, y_pre, squared=False)\n",
    "rfr_rmse"
   ]
  },
  {
   "cell_type": "code",
   "execution_count": null,
   "id": "1f8c4854",
   "metadata": {},
   "outputs": [],
   "source": []
  }
 ],
 "metadata": {
  "kernelspec": {
   "display_name": "Python 3 (ipykernel)",
   "language": "python",
   "name": "python3"
  },
  "language_info": {
   "codemirror_mode": {
    "name": "ipython",
    "version": 3
   },
   "file_extension": ".py",
   "mimetype": "text/x-python",
   "name": "python",
   "nbconvert_exporter": "python",
   "pygments_lexer": "ipython3",
   "version": "3.9.7"
  }
 },
 "nbformat": 4,
 "nbformat_minor": 5
}
