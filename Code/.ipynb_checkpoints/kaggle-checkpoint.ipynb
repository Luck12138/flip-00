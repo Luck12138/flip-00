{
 "cells": [
  {
   "cell_type": "markdown",
   "id": "6d8a1b74",
   "metadata": {},
   "source": [
    "### load Data\t"
   ]
  },
  {
   "cell_type": "code",
   "execution_count": null,
   "id": "b30dcce2",
   "metadata": {},
   "outputs": [],
   "source": [
    "import matplotlib.pyplot as plt\n",
    "import numpy as np\n",
    "import pandas as pd\n",
    "import seaborn as sns\n",
    "import re\n",
    "import time\n",
    "import datetime\n",
    "from collections import defaultdict\n",
    "import ast"
   ]
  },
  {
   "cell_type": "code",
   "execution_count": null,
   "id": "4af61123",
   "metadata": {},
   "outputs": [],
   "source": [
    "train_data = pd.read_csv('../data/train.csv')\n",
    "test_data = pd.read_csv('../data/test.csv')"
   ]
  },
  {
   "cell_type": "code",
   "execution_count": null,
   "id": "0b7c42a8",
   "metadata": {},
   "outputs": [],
   "source": [
    "train_data.shape,test_data.shape"
   ]
  },
  {
   "cell_type": "code",
   "execution_count": null,
   "id": "f7e5c75f",
   "metadata": {},
   "outputs": [],
   "source": [
    "train_data.info()"
   ]
  },
  {
   "cell_type": "code",
   "execution_count": null,
   "id": "35fdb0f8",
   "metadata": {},
   "outputs": [],
   "source": [
    "train_data.isnull().sum()"
   ]
  },
  {
   "cell_type": "code",
   "execution_count": null,
   "id": "554ba700",
   "metadata": {},
   "outputs": [],
   "source": [
    "per_train_data=pd.DataFrame(train_data.isnull().sum()/len(train_data)*100)"
   ]
  },
  {
   "cell_type": "code",
   "execution_count": null,
   "id": "cdde0d2b",
   "metadata": {},
   "outputs": [],
   "source": [
    "per_train_data"
   ]
  },
  {
   "cell_type": "code",
   "execution_count": null,
   "id": "108a00ea",
   "metadata": {},
   "outputs": [],
   "source": [
    "train_data['imdb_id']"
   ]
  },
  {
   "cell_type": "code",
   "execution_count": null,
   "id": "9c7996bf",
   "metadata": {},
   "outputs": [],
   "source": [
    "train_data['original_language']"
   ]
  },
  {
   "cell_type": "code",
   "execution_count": null,
   "id": "9433c2fc",
   "metadata": {},
   "outputs": [],
   "source": [
    " train_data['poster_path']"
   ]
  },
  {
   "cell_type": "code",
   "execution_count": null,
   "id": "19fd944e",
   "metadata": {},
   "outputs": [],
   "source": [
    "train_data['overview']"
   ]
  },
  {
   "cell_type": "code",
   "execution_count": null,
   "id": "d735e9c2",
   "metadata": {},
   "outputs": [],
   "source": [
    "train_data['production_companies']"
   ]
  },
  {
   "cell_type": "code",
   "execution_count": null,
   "id": "35f212cb",
   "metadata": {},
   "outputs": [],
   "source": [
    " train_data['production_countries']"
   ]
  },
  {
   "cell_type": "code",
   "execution_count": null,
   "id": "0812e41e",
   "metadata": {},
   "outputs": [],
   "source": [
    " train_data['tagline']"
   ]
  },
  {
   "cell_type": "code",
   "execution_count": null,
   "id": "0a5d34a1",
   "metadata": {},
   "outputs": [],
   "source": [
    " train_data['title']"
   ]
  },
  {
   "cell_type": "markdown",
   "id": "97217416",
   "metadata": {},
   "source": [
    "### data filter"
   ]
  },
  {
   "cell_type": "code",
   "execution_count": null,
   "id": "0c89d256",
   "metadata": {},
   "outputs": [],
   "source": [
    "train_data.drop(columns=['belongs_to_collection','homepage'],axis = 1 ,inplace=True)\n",
    "train_data.drop(columns=['imdb_id', 'poster_path','tagline', 'overview', 'original_title','Keywords' ,'crew'],axis = 1 ,inplace=True)"
   ]
  },
  {
   "cell_type": "code",
   "execution_count": null,
   "id": "d0937ca7",
   "metadata": {},
   "outputs": [],
   "source": [
    "train_data.shape"
   ]
  },
  {
   "cell_type": "code",
   "execution_count": null,
   "id": "54427c78",
   "metadata": {},
   "outputs": [],
   "source": [
    "train_data.info()"
   ]
  },
  {
   "cell_type": "code",
   "execution_count": null,
   "id": "4b0efcb4",
   "metadata": {},
   "outputs": [],
   "source": [
    "train_data.describe()"
   ]
  },
  {
   "cell_type": "markdown",
   "id": "cf70651c",
   "metadata": {},
   "source": [
    "### data processing"
   ]
  },
  {
   "cell_type": "markdown",
   "id": "776ce0aa",
   "metadata": {},
   "source": [
    "### budget vs renveue"
   ]
  },
  {
   "cell_type": "code",
   "execution_count": null,
   "id": "5574c05c",
   "metadata": {},
   "outputs": [],
   "source": [
    "train_data[['id','title','budget','revenue']].sort_values(['revenue'], ascending=False).head(10).style.background_gradient(subset='revenue', cmap='BuGn')"
   ]
  },
  {
   "cell_type": "code",
   "execution_count": null,
   "id": "bfd3d820",
   "metadata": {},
   "outputs": [],
   "source": [
    "fig, ax  = plt.subplots(figsize = (10, 6))\n",
    "ax.scatter(train_data['budget'], train_data['revenue'],alpha=0.5)\n",
    "ax.set_xlabel('Budget')\n",
    "ax.set_ylabel('Revenue')"
   ]
  },
  {
   "cell_type": "markdown",
   "id": "6c7e74e3",
   "metadata": {},
   "source": [
    "  At the first glance, budget seems to have a relatively high positive correlation with revenue."
   ]
  },
  {
   "cell_type": "markdown",
   "id": "adcabfc5",
   "metadata": {},
   "source": [
    "### genres VS revenue\t"
   ]
  },
  {
   "cell_type": "code",
   "execution_count": null,
   "id": "68613c00",
   "metadata": {},
   "outputs": [],
   "source": [
    "train_data['genres'][0]"
   ]
  },
  {
   "cell_type": "code",
   "execution_count": null,
   "id": "9b70fb7e",
   "metadata": {},
   "outputs": [],
   "source": [
    "# Extract genres\n",
    "genres=train_data.loc[:,[\"genres\"]]\n",
    "genres[\"genres\"]=train_data['genres'].fillna(\"None\")\n",
    "genres[\"genres\"].head(5)"
   ]
  },
  {
   "cell_type": "code",
   "execution_count": null,
   "id": "71a15d51",
   "metadata": {},
   "outputs": [],
   "source": [
    "def extract_genres(row):\n",
    "    if row == \"None\":\n",
    "        return ['None']\n",
    "    else:\n",
    "        results = re.findall(r\"'name': '(\\w+\\s?\\w+)'\", row)\n",
    "        return results\n",
    "    \n",
    "genres[\"genres\"] = genres[\"genres\"].apply(extract_genres)"
   ]
  },
  {
   "cell_type": "code",
   "execution_count": null,
   "id": "55b3e1a6",
   "metadata": {},
   "outputs": [],
   "source": [
    "genres_dict = dict()\n",
    "for genre in genres[\"genres\"]:\n",
    "    for elem in genre:\n",
    "        if elem not in genres_dict:\n",
    "            genres_dict[elem] = 1\n",
    "        else:\n",
    "            genres_dict[elem] += 1\n",
    "genres_df = pd.DataFrame.from_dict(genres_dict, orient='index')\n",
    "genres_df.columns=['Movie Numbers']\n",
    "genres_df = genres_df.sort_values(by='Movie Numbers',ascending=False)"
   ]
  },
  {
   "cell_type": "code",
   "execution_count": null,
   "id": "90904e34",
   "metadata": {},
   "outputs": [],
   "source": [
    "genres_df.plot.bar()"
   ]
  },
  {
   "cell_type": "markdown",
   "id": "19fc3e83",
   "metadata": {},
   "source": [
    "### popularity VS revenue"
   ]
  },
  {
   "cell_type": "code",
   "execution_count": null,
   "id": "9fe87f5e",
   "metadata": {},
   "outputs": [],
   "source": [
    "fig, ax  = plt.subplots(figsize = (10, 6))\n",
    "ax.scatter(train_data['popularity'], train_data['revenue'],alpha=0.5)\n",
    "ax.set_xlabel('Budget')\n",
    "ax.set_ylabel('Revenue')"
   ]
  },
  {
   "cell_type": "code",
   "execution_count": null,
   "id": "26a319f0",
   "metadata": {},
   "outputs": [],
   "source": [
    "plt.figure(figsize=(12,8))\n",
    "edgecolor=(0,0,0),\n",
    "sns.histplot(train_data['popularity'].T, kde=False)\n",
    "plt.title(\"Movie Popularity Count\",fontsize=20)\n",
    "plt.xlabel('Popularity')\n",
    "plt.ylabel('Count')\n",
    "plt.xticks(fontsize=12)\n",
    "plt.show()"
   ]
  },
  {
   "cell_type": "markdown",
   "id": "853c2993",
   "metadata": {},
   "source": [
    "### release_date vs revenue"
   ]
  },
  {
   "cell_type": "code",
   "execution_count": null,
   "id": "8f656f51",
   "metadata": {},
   "outputs": [],
   "source": [
    "train_data['release_date']"
   ]
  },
  {
   "cell_type": "code",
   "execution_count": null,
   "id": "eca2206c",
   "metadata": {},
   "outputs": [],
   "source": [
    "Extract release_date\n",
    "train_data[['release_month', 'release_day', 'release_year']] = train_data['release_date'].str.split('/', expand = True).replace(np.nan, -1)"
   ]
  },
  {
   "cell_type": "code",
   "execution_count": null,
   "id": "91ec7bdd",
   "metadata": {},
   "outputs": [],
   "source": [
    "train_data['release_month'] = train_data['release_month'].astype(int)\n",
    "train_data['release_day'] = train_data['release_day'].astype(int)\n",
    "train_data['release_year'] = train_data['release_year'].astype(int)\n",
    "train_data['Day_of_Week'] = (movietime[\"Day_of_Week\"].dt.dayofweek)\n",
    "train_data.loc[(train_data['release_year'] <= 19) & (train_data['release_year'] < 100), \"release_year\"] += 2000\n",
    "train_data.loc[(train_data['release_year'] > 19)  & (train_data['release_year'] < 100), \"release_year\"] += 1900   "
   ]
  },
  {
   "cell_type": "code",
   "execution_count": null,
   "id": "1e2cf59e",
   "metadata": {},
   "outputs": [],
   "source": [
    "indices = list([x - 1 for x in train_data.release_month.value_counts().index])\n",
    "indices"
   ]
  },
  {
   "cell_type": "code",
   "execution_count": null,
   "id": "5133c0eb",
   "metadata": {},
   "outputs": [],
   "source": [
    "train_data.release_month.value_counts().sort_index()"
   ]
  },
  {
   "cell_type": "code",
   "execution_count": null,
   "id": "0911ae6b",
   "metadata": {},
   "outputs": [],
   "source": [
    "train_data"
   ]
  },
  {
   "cell_type": "markdown",
   "id": "9db76d67",
   "metadata": {},
   "source": [
    "### Year"
   ]
  },
  {
   "cell_type": "code",
   "execution_count": null,
   "id": "a8165631",
   "metadata": {},
   "outputs": [],
   "source": [
    "plt.figure(figsize=(20,12))\n",
    "edgecolor=(0,0,0),\n",
    "sns.countplot(train_data['release_year'].sort_values(), edgecolor=(0,0,0))\n",
    "plt.title(\"Year\",fontsize=20)\n",
    "plt.xlabel('Year')\n",
    "plt.ylabel('Number of Movies Release')\n",
    "plt.xticks(fontsize=12,rotation=90)\n",
    "plt.show()"
   ]
  },
  {
   "cell_type": "code",
   "execution_count": null,
   "id": "cf4b225d",
   "metadata": {},
   "outputs": [],
   "source": [
    "fig, ax = plt.subplots(figsize=(15,8))\n",
    "ax.scatter(train_data['release_year'][:3000], train_data['revenue'][:3000])\n",
    "revenue = train_data.groupby('release_year')[\"revenue\"].aggregate('mean')\n",
    "plt.xlabel(\"Year of release\")\n",
    "plt.ylabel(\"Average revenue\")\n",
    "plt.show()"
   ]
  },
  {
   "cell_type": "code",
   "execution_count": null,
   "id": "519cda00",
   "metadata": {},
   "outputs": [],
   "source": [
    "year = train_data['release_year']\n",
    "revenue = train_data.groupby('release_year')[\"revenue\"].aggregate('mean')\n",
    "fig, ax = plt.subplots(figsize=(15,8))\n",
    "ax.plot(revenue.index,revenue)\n",
    "plt.xlabel(\"Year of release\")\n",
    "plt.ylabel(\"Average revenue\")\n",
    "plt.show()"
   ]
  },
  {
   "cell_type": "markdown",
   "id": "0ea04b25",
   "metadata": {},
   "source": [
    "### Month"
   ]
  },
  {
   "cell_type": "code",
   "execution_count": null,
   "id": "3f5e6bd2",
   "metadata": {},
   "outputs": [],
   "source": [
    "plt.figure(figsize=(20,12))\n",
    "edgecolor=(0,0,0),\n",
    "sns.countplot(train_data['release_month'].sort_values(), edgecolor=(0,0,0))\n",
    "plt.title(\"Month\",fontsize=20)\n",
    "plt.xlabel('Month')\n",
    "plt.ylabel('Number of Movies Release')\n",
    "plt.xticks(fontsize=15)\n",
    "plt.show()"
   ]
  },
  {
   "cell_type": "code",
   "execution_count": null,
   "id": "6bb73cdd",
   "metadata": {},
   "outputs": [],
   "source": [
    "fig, ax = plt.subplots(figsize=(15,8))\n",
    "ax.bar(train_data['release_month'][:3000], train_data['revenue'][:3000], alpha=0.5)\n",
    "plt.title(\"Month\",fontsize=20)\n",
    "plt.xlabel('Month')\n",
    "plt.ylabel('revenue')\n",
    "plt.xticks(fontsize=15)"
   ]
  },
  {
   "cell_type": "markdown",
   "id": "5b4ef11f",
   "metadata": {},
   "source": [
    "### Week\n"
   ]
  },
  {
   "cell_type": "code",
   "execution_count": null,
   "id": "4d17714b",
   "metadata": {},
   "outputs": [],
   "source": [
    "train_data[['release_month','release_day','release_year']]"
   ]
  },
  {
   "cell_type": "code",
   "execution_count": null,
   "id": "1494f586",
   "metadata": {},
   "outputs": [],
   "source": []
  },
  {
   "cell_type": "markdown",
   "id": "22745b1b",
   "metadata": {},
   "source": [
    "### runtime"
   ]
  },
  {
   "cell_type": "code",
   "execution_count": null,
   "id": "97c9a347",
   "metadata": {},
   "outputs": [],
   "source": [
    "plt.hist(train_data['runtime'].fillna(0) / 60, bins=40);\n",
    "plt.title('Distribution of length of film in hours', fontsize=12);\n",
    "plt.xlabel('Duration of Movie in Hours')\n",
    "plt.ylabel('Number of Movies')"
   ]
  },
  {
   "cell_type": "code",
   "execution_count": null,
   "id": "d83342bf",
   "metadata": {},
   "outputs": [],
   "source": [
    "train_data[['id','title','runtime', 'budget', 'revenue']].sort_values(['runtime'],ascending=False).head(10).style.background_gradient(subset=['runtime','budget','revenue'], cmap='YlGn')"
   ]
  },
  {
   "cell_type": "code",
   "execution_count": null,
   "id": "fe14fb4b",
   "metadata": {},
   "outputs": [],
   "source": []
  },
  {
   "cell_type": "code",
   "execution_count": null,
   "id": "68cb4421",
   "metadata": {},
   "outputs": [],
   "source": []
  },
  {
   "cell_type": "code",
   "execution_count": null,
   "id": "b1767266",
   "metadata": {},
   "outputs": [],
   "source": []
  },
  {
   "cell_type": "code",
   "execution_count": null,
   "id": "375bb521",
   "metadata": {},
   "outputs": [],
   "source": []
  },
  {
   "cell_type": "code",
   "execution_count": null,
   "id": "2839b3e2",
   "metadata": {},
   "outputs": [],
   "source": []
  }
 ],
 "metadata": {
  "kernelspec": {
   "display_name": "Python 3 (ipykernel)",
   "language": "python",
   "name": "python3"
  },
  "language_info": {
   "codemirror_mode": {
    "name": "ipython",
    "version": 3
   },
   "file_extension": ".py",
   "mimetype": "text/x-python",
   "name": "python",
   "nbconvert_exporter": "python",
   "pygments_lexer": "ipython3",
   "version": "3.9.7"
  }
 },
 "nbformat": 4,
 "nbformat_minor": 5
}
