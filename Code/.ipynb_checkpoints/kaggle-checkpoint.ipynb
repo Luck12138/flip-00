{
 "cells": [
  {
   "cell_type": "markdown",
   "id": "fb041730",
   "metadata": {},
   "source": [
    "### load Data\t"
   ]
  },
  {
   "cell_type": "code",
   "execution_count": 1,
   "id": "c7b03655",
   "metadata": {},
   "outputs": [],
   "source": [
    "import matplotlib.pyplot as plt\n",
    "import numpy as np\n",
    "import pandas as pd\n",
    "import seaborn as sns\n",
    "import re\n",
    "import time\n",
    "import datetime\n",
    "from collections import defaultdict\n",
    "import ast"
   ]
  },
  {
   "cell_type": "code",
   "execution_count": 2,
   "id": "3668646d",
   "metadata": {},
   "outputs": [],
   "source": [
    "train_data = pd.read_csv('../data/train.csv')\n",
    "test_data = pd.read_csv('../data/test.csv')"
   ]
  },
  {
   "cell_type": "code",
   "execution_count": 3,
   "id": "853c32b0",
   "metadata": {},
   "outputs": [
    {
     "data": {
      "text/plain": [
       "((3000, 23), (4398, 22))"
      ]
     },
     "execution_count": 3,
     "metadata": {},
     "output_type": "execute_result"
    }
   ],
   "source": [
    "train_data.shape,test_data.shape"
   ]
  },
  {
   "cell_type": "code",
   "execution_count": 4,
   "id": "4c5ae7c9",
   "metadata": {},
   "outputs": [
    {
     "name": "stdout",
     "output_type": "stream",
     "text": [
      "<class 'pandas.core.frame.DataFrame'>\n",
      "RangeIndex: 3000 entries, 0 to 2999\n",
      "Data columns (total 23 columns):\n",
      " #   Column                 Non-Null Count  Dtype  \n",
      "---  ------                 --------------  -----  \n",
      " 0   id                     3000 non-null   int64  \n",
      " 1   belongs_to_collection  604 non-null    object \n",
      " 2   budget                 3000 non-null   int64  \n",
      " 3   genres                 2993 non-null   object \n",
      " 4   homepage               946 non-null    object \n",
      " 5   imdb_id                3000 non-null   object \n",
      " 6   original_language      3000 non-null   object \n",
      " 7   original_title         3000 non-null   object \n",
      " 8   overview               2992 non-null   object \n",
      " 9   popularity             3000 non-null   float64\n",
      " 10  poster_path            2999 non-null   object \n",
      " 11  production_companies   2844 non-null   object \n",
      " 12  production_countries   2945 non-null   object \n",
      " 13  release_date           3000 non-null   object \n",
      " 14  runtime                2998 non-null   float64\n",
      " 15  spoken_languages       2980 non-null   object \n",
      " 16  status                 3000 non-null   object \n",
      " 17  tagline                2403 non-null   object \n",
      " 18  title                  3000 non-null   object \n",
      " 19  Keywords               2724 non-null   object \n",
      " 20  cast                   2987 non-null   object \n",
      " 21  crew                   2984 non-null   object \n",
      " 22  revenue                3000 non-null   int64  \n",
      "dtypes: float64(2), int64(3), object(18)\n",
      "memory usage: 539.2+ KB\n"
     ]
    }
   ],
   "source": [
    "train_data.info()"
   ]
  },
  {
   "cell_type": "code",
   "execution_count": 5,
   "id": "0c406f4f",
   "metadata": {},
   "outputs": [
    {
     "data": {
      "text/plain": [
       "id                          0\n",
       "belongs_to_collection    2396\n",
       "budget                      0\n",
       "genres                      7\n",
       "homepage                 2054\n",
       "imdb_id                     0\n",
       "original_language           0\n",
       "original_title              0\n",
       "overview                    8\n",
       "popularity                  0\n",
       "poster_path                 1\n",
       "production_companies      156\n",
       "production_countries       55\n",
       "release_date                0\n",
       "runtime                     2\n",
       "spoken_languages           20\n",
       "status                      0\n",
       "tagline                   597\n",
       "title                       0\n",
       "Keywords                  276\n",
       "cast                       13\n",
       "crew                       16\n",
       "revenue                     0\n",
       "dtype: int64"
      ]
     },
     "execution_count": 5,
     "metadata": {},
     "output_type": "execute_result"
    }
   ],
   "source": [
    "train_data.isnull().sum()"
   ]
  },
  {
   "cell_type": "code",
   "execution_count": 6,
   "id": "7c75a754",
   "metadata": {},
   "outputs": [],
   "source": [
    "# per_train_data=pd.DataFrame(train_data.isnull().sum()/len(train_data)*100)\n",
    "per_train_data=train_data.isnull().sum()/len(train_data)*100"
   ]
  },
  {
   "cell_type": "code",
   "execution_count": 7,
   "id": "f1dc2842",
   "metadata": {},
   "outputs": [
    {
     "data": {
      "text/plain": [
       "id                        0.000000\n",
       "belongs_to_collection    79.866667\n",
       "budget                    0.000000\n",
       "genres                    0.233333\n",
       "homepage                 68.466667\n",
       "imdb_id                   0.000000\n",
       "original_language         0.000000\n",
       "original_title            0.000000\n",
       "overview                  0.266667\n",
       "popularity                0.000000\n",
       "poster_path               0.033333\n",
       "production_companies      5.200000\n",
       "production_countries      1.833333\n",
       "release_date              0.000000\n",
       "runtime                   0.066667\n",
       "spoken_languages          0.666667\n",
       "status                    0.000000\n",
       "tagline                  19.900000\n",
       "title                     0.000000\n",
       "Keywords                  9.200000\n",
       "cast                      0.433333\n",
       "crew                      0.533333\n",
       "revenue                   0.000000\n",
       "dtype: float64"
      ]
     },
     "execution_count": 7,
     "metadata": {},
     "output_type": "execute_result"
    }
   ],
   "source": [
    "per_train_data"
   ]
  },
  {
   "cell_type": "code",
   "execution_count": 8,
   "id": "0cc3a653",
   "metadata": {},
   "outputs": [],
   "source": [
    "train_data['runtime']=train_data['runtime'].fillna(train_data['runtime'].mean())\n",
    "per_train_data=pd.DataFrame(train_data.isnull().sum()/len(train_data)*100).T"
   ]
  },
  {
   "cell_type": "code",
   "execution_count": 9,
   "id": "acbaa7bd",
   "metadata": {},
   "outputs": [
    {
     "data": {
      "text/plain": [
       "Text(0, 0.5, 'Percentage of missing train data')"
      ]
     },
     "execution_count": 9,
     "metadata": {},
     "output_type": "execute_result"
    },
    {
     "data": {
      "image/png": "[encoded data removed]",
      "text/plain": [
       "<Figure size 1080x648 with 1 Axes>"
      ]
     },
     "metadata": {},
     "output_type": "display_data"
    }
   ],
   "source": [
    "sns.set(rc={'figure.figsize':(15,9)})\n",
    "per_train_data.plot(kind='bar')\n",
    "plt.xlabel(\"Columns with missing train data\")\n",
    "plt.ylabel(\"Percentage of missing train data\")"
   ]
  },
  {
   "cell_type": "code",
   "execution_count": 10,
   "id": "48a47b3f",
   "metadata": {},
   "outputs": [
    {
     "data": {
      "text/plain": [
       "0       tt2637294\n",
       "1       tt0368933\n",
       "2       tt2582802\n",
       "3       tt1821480\n",
       "4       tt1380152\n",
       "          ...    \n",
       "2995    tt0109403\n",
       "2996    tt2364975\n",
       "2997    tt0116908\n",
       "2998    tt0343135\n",
       "2999    tt1600195\n",
       "Name: imdb_id, Length: 3000, dtype: object"
      ]
     },
     "execution_count": 10,
     "metadata": {},
     "output_type": "execute_result"
    }
   ],
   "source": [
    "train_data['imdb_id']"
   ]
  },
  {
   "cell_type": "code",
   "execution_count": 11,
   "id": "cc8ff050",
   "metadata": {},
   "outputs": [
    {
     "data": {
      "text/plain": [
       "0       en\n",
       "1       en\n",
       "2       en\n",
       "3       hi\n",
       "4       ko\n",
       "        ..\n",
       "2995    en\n",
       "2996    sv\n",
       "2997    en\n",
       "2998    en\n",
       "2999    en\n",
       "Name: original_language, Length: 3000, dtype: object"
      ]
     },
     "execution_count": 11,
     "metadata": {},
     "output_type": "execute_result"
    }
   ],
   "source": [
    "train_data['original_language']"
   ]
  },
  {
   "cell_type": "code",
   "execution_count": 12,
   "id": "0c021c41",
   "metadata": {},
   "outputs": [
    {
     "data": {
      "text/plain": [
       "0       /tQtWuwvMf0hCc2QR2tkolwl7c3c.jpg\n",
       "1       /w9Z7A0GHEhIp7etpj0vyKOeU1Wx.jpg\n",
       "2       /lIv1QinFqz4dlp5U4lQ6HaiskOZ.jpg\n",
       "3       /aTXRaPrWSinhcmCrcfJK17urp3F.jpg\n",
       "4       /m22s7zvkVFDU9ir56PiiqIEWFdT.jpg\n",
       "                      ...               \n",
       "2995    /j8Q7pQ27hvH54wpxJzIuQgQCdro.jpg\n",
       "2996    /sS01LSy6KDrCZAhtkO18UdnWFT1.jpg\n",
       "2997    /4MENR8x6mYqnZvp2hGjSaPJz64J.jpg\n",
       "2998    /nIY4kvJTTnxoBR0wycrXng5MOYs.jpg\n",
       "2999    /cUT6NQP5LAJpmUoStGtXmvNt4zA.jpg\n",
       "Name: poster_path, Length: 3000, dtype: object"
      ]
     },
     "execution_count": 12,
     "metadata": {},
     "output_type": "execute_result"
    }
   ],
   "source": [
    " train_data['poster_path']"
   ]
  },
  {
   "cell_type": "code",
   "execution_count": 13,
   "id": "477a854d",
   "metadata": {},
   "outputs": [
    {
     "data": {
      "text/plain": [
       "0       When Lou, who has become the \"father of the In...\n",
       "1       Mia Thermopolis is now a college graduate and ...\n",
       "2       Under the direction of a ruthless instructor, ...\n",
       "3       Vidya Bagchi (Vidya Balan) arrives in Kolkata ...\n",
       "4       Marine Boy is the story of a former national s...\n",
       "                              ...                        \n",
       "2995    Military men Rock Reilly and Eddie Devane are ...\n",
       "2996    Three girls in 1980s Stockholm decide to form ...\n",
       "2997    Samantha Caine, suburban homemaker, is the ide...\n",
       "2998    Reuben Feffer is a guy who's spent his entire ...\n",
       "2999    A young man sets out to uncover the truth abou...\n",
       "Name: overview, Length: 3000, dtype: object"
      ]
     },
     "execution_count": 13,
     "metadata": {},
     "output_type": "execute_result"
    }
   ],
   "source": [
    "train_data['overview']"
   ]
  },
  {
   "cell_type": "code",
   "execution_count": 14,
   "id": "a3bf6b6f",
   "metadata": {},
   "outputs": [
    {
     "data": {
      "text/plain": [
       "0       [{'name': 'Paramount Pictures', 'id': 4}, {'na...\n",
       "1             [{'name': 'Walt Disney Pictures', 'id': 2}]\n",
       "2       [{'name': 'Bold Films', 'id': 2266}, {'name': ...\n",
       "3                                                     NaN\n",
       "4                                                     NaN\n",
       "                              ...                        \n",
       "2995    [{'name': 'Warner Bros.', 'id': 6194}, {'name'...\n",
       "2996    [{'name': 'Memfis Film', 'id': 321}, {'name': ...\n",
       "2997    [{'name': 'New Line Cinema', 'id': 12}, {'name...\n",
       "2998    [{'name': 'Jersey Films', 'id': 216}, {'name':...\n",
       "2999    [{'name': 'Lions Gate Films', 'id': 35}, {'nam...\n",
       "Name: production_companies, Length: 3000, dtype: object"
      ]
     },
     "execution_count": 14,
     "metadata": {},
     "output_type": "execute_result"
    }
   ],
   "source": [
    "train_data['production_companies']"
   ]
  },
  {
   "cell_type": "code",
   "execution_count": 15,
   "id": "31bf3cd2",
   "metadata": {},
   "outputs": [
    {
     "data": {
      "text/plain": [
       "0       [{'iso_3166_1': 'US', 'name': 'United States o...\n",
       "1       [{'iso_3166_1': 'US', 'name': 'United States o...\n",
       "2       [{'iso_3166_1': 'US', 'name': 'United States o...\n",
       "3                 [{'iso_3166_1': 'IN', 'name': 'India'}]\n",
       "4           [{'iso_3166_1': 'KR', 'name': 'South Korea'}]\n",
       "                              ...                        \n",
       "2995    [{'iso_3166_1': 'US', 'name': 'United States o...\n",
       "2996    [{'iso_3166_1': 'DK', 'name': 'Denmark'}, {'is...\n",
       "2997    [{'iso_3166_1': 'US', 'name': 'United States o...\n",
       "2998    [{'iso_3166_1': 'US', 'name': 'United States o...\n",
       "2999    [{'iso_3166_1': 'US', 'name': 'United States o...\n",
       "Name: production_countries, Length: 3000, dtype: object"
      ]
     },
     "execution_count": 15,
     "metadata": {},
     "output_type": "execute_result"
    }
   ],
   "source": [
    " train_data['production_countries']"
   ]
  },
  {
   "cell_type": "code",
   "execution_count": 16,
   "id": "986f3028",
   "metadata": {},
   "outputs": [
    {
     "data": {
      "text/plain": [
       "0       The Laws of Space and Time are About to be Vio...\n",
       "1       It can take a lifetime to find true love; she'...\n",
       "2         The road to greatness can take you to the edge.\n",
       "3                                                     NaN\n",
       "4                                                     NaN\n",
       "                              ...                        \n",
       "2995    It was supposed to be a routine prisoner trans...\n",
       "2996                                                  NaN\n",
       "2997                 What's forgotten is not always gone.\n",
       "2998    For the most cautious man on Earth, life is ab...\n",
       "2999            They stole his life. He's taking it back.\n",
       "Name: tagline, Length: 3000, dtype: object"
      ]
     },
     "execution_count": 16,
     "metadata": {},
     "output_type": "execute_result"
    }
   ],
   "source": [
    " train_data['tagline']"
   ]
  },
  {
   "cell_type": "code",
   "execution_count": 17,
   "id": "ca7dde7f",
   "metadata": {},
   "outputs": [
    {
     "data": {
      "text/plain": [
       "0                         Hot Tub Time Machine 2\n",
       "1       The Princess Diaries 2: Royal Engagement\n",
       "2                                       Whiplash\n",
       "3                                        Kahaani\n",
       "4                                     Marine Boy\n",
       "                          ...                   \n",
       "2995                                     Chasers\n",
       "2996                            We Are the Best!\n",
       "2997                     The Long Kiss Goodnight\n",
       "2998                            Along Came Polly\n",
       "2999                                   Abduction\n",
       "Name: title, Length: 3000, dtype: object"
      ]
     },
     "execution_count": 17,
     "metadata": {},
     "output_type": "execute_result"
    }
   ],
   "source": [
    " train_data['title']"
   ]
  },
  {
   "cell_type": "markdown",
   "id": "8580e55c",
   "metadata": {},
   "source": [
    "### data filter"
   ]
  },
  {
   "cell_type": "code",
   "execution_count": 18,
   "id": "ecb971fb",
   "metadata": {},
   "outputs": [],
   "source": [
    "train_data.drop(columns=['belongs_to_collection','homepage'],axis = 1 ,inplace=True)\n",
    "train_data.drop(columns=['imdb_id', 'poster_path','tagline', 'overview', 'original_title','Keywords' ,'crew'],axis = 1 ,inplace=True)"
   ]
  },
  {
   "cell_type": "code",
   "execution_count": 19,
   "id": "c559fe36",
   "metadata": {},
   "outputs": [
    {
     "data": {
      "text/plain": [
       "(3000, 14)"
      ]
     },
     "execution_count": 19,
     "metadata": {},
     "output_type": "execute_result"
    }
   ],
   "source": [
    "train_data.shape"
   ]
  },
  {
   "cell_type": "code",
   "execution_count": 20,
   "id": "ae0c805a",
   "metadata": {},
   "outputs": [
    {
     "name": "stdout",
     "output_type": "stream",
     "text": [
      "<class 'pandas.core.frame.DataFrame'>\n",
      "RangeIndex: 3000 entries, 0 to 2999\n",
      "Data columns (total 14 columns):\n",
      " #   Column                Non-Null Count  Dtype  \n",
      "---  ------                --------------  -----  \n",
      " 0   id                    3000 non-null   int64  \n",
      " 1   budget                3000 non-null   int64  \n",
      " 2   genres                2993 non-null   object \n",
      " 3   original_language     3000 non-null   object \n",
      " 4   popularity            3000 non-null   float64\n",
      " 5   production_companies  2844 non-null   object \n",
      " 6   production_countries  2945 non-null   object \n",
      " 7   release_date          3000 non-null   object \n",
      " 8   runtime               3000 non-null   float64\n",
      " 9   spoken_languages      2980 non-null   object \n",
      " 10  status                3000 non-null   object \n",
      " 11  title                 3000 non-null   object \n",
      " 12  cast                  2987 non-null   object \n",
      " 13  revenue               3000 non-null   int64  \n",
      "dtypes: float64(2), int64(3), object(9)\n",
      "memory usage: 328.2+ KB\n"
     ]
    }
   ],
   "source": [
    "train_data.info()"
   ]
  },
  {
   "cell_type": "code",
   "execution_count": 21,
   "id": "eeb4b0db",
   "metadata": {},
   "outputs": [
    {
     "data": {
      "text/html": [
       "<div>\n",
       "<style scoped>\n",
       "    .dataframe tbody tr th:only-of-type {\n",
       "        vertical-align: middle;\n",
       "    }\n",
       "\n",
       "    .dataframe tbody tr th {\n",
       "        vertical-align: top;\n",
       "    }\n",
       "\n",
       "    .dataframe thead th {\n",
       "        text-align: right;\n",
       "    }\n",
       "</style>\n",
       "<table border=\"1\" class=\"dataframe\">\n",
       "  <thead>\n",
       "    <tr style=\"text-align: right;\">\n",
       "      <th></th>\n",
       "      <th>id</th>\n",
       "      <th>budget</th>\n",
       "      <th>popularity</th>\n",
       "      <th>runtime</th>\n",
       "      <th>revenue</th>\n",
       "    </tr>\n",
       "  </thead>\n",
       "  <tbody>\n",
       "    <tr>\n",
       "      <th>count</th>\n",
       "      <td>3000.000000</td>\n",
       "      <td>3.000000e+03</td>\n",
       "      <td>3000.000000</td>\n",
       "      <td>3000.000000</td>\n",
       "      <td>3.000000e+03</td>\n",
       "    </tr>\n",
       "    <tr>\n",
       "      <th>mean</th>\n",
       "      <td>1500.500000</td>\n",
       "      <td>2.253133e+07</td>\n",
       "      <td>8.463274</td>\n",
       "      <td>107.856571</td>\n",
       "      <td>6.672585e+07</td>\n",
       "    </tr>\n",
       "    <tr>\n",
       "      <th>std</th>\n",
       "      <td>866.169729</td>\n",
       "      <td>3.702609e+07</td>\n",
       "      <td>12.104000</td>\n",
       "      <td>22.079069</td>\n",
       "      <td>1.375323e+08</td>\n",
       "    </tr>\n",
       "    <tr>\n",
       "      <th>min</th>\n",
       "      <td>1.000000</td>\n",
       "      <td>0.000000e+00</td>\n",
       "      <td>0.000001</td>\n",
       "      <td>0.000000</td>\n",
       "      <td>1.000000e+00</td>\n",
       "    </tr>\n",
       "    <tr>\n",
       "      <th>25%</th>\n",
       "      <td>750.750000</td>\n",
       "      <td>0.000000e+00</td>\n",
       "      <td>4.018053</td>\n",
       "      <td>94.000000</td>\n",
       "      <td>2.379808e+06</td>\n",
       "    </tr>\n",
       "    <tr>\n",
       "      <th>50%</th>\n",
       "      <td>1500.500000</td>\n",
       "      <td>8.000000e+06</td>\n",
       "      <td>7.374861</td>\n",
       "      <td>104.000000</td>\n",
       "      <td>1.680707e+07</td>\n",
       "    </tr>\n",
       "    <tr>\n",
       "      <th>75%</th>\n",
       "      <td>2250.250000</td>\n",
       "      <td>2.900000e+07</td>\n",
       "      <td>10.890983</td>\n",
       "      <td>118.000000</td>\n",
       "      <td>6.891920e+07</td>\n",
       "    </tr>\n",
       "    <tr>\n",
       "      <th>max</th>\n",
       "      <td>3000.000000</td>\n",
       "      <td>3.800000e+08</td>\n",
       "      <td>294.337037</td>\n",
       "      <td>338.000000</td>\n",
       "      <td>1.519558e+09</td>\n",
       "    </tr>\n",
       "  </tbody>\n",
       "</table>\n",
       "</div>"
      ],
      "text/plain": [
       "                id        budget   popularity      runtime       revenue\n",
       "count  3000.000000  3.000000e+03  3000.000000  3000.000000  3.000000e+03\n",
       "mean   1500.500000  2.253133e+07     8.463274   107.856571  6.672585e+07\n",
       "std     866.169729  3.702609e+07    12.104000    22.079069  1.375323e+08\n",
       "min       1.000000  0.000000e+00     0.000001     0.000000  1.000000e+00\n",
       "25%     750.750000  0.000000e+00     4.018053    94.000000  2.379808e+06\n",
       "50%    1500.500000  8.000000e+06     7.374861   104.000000  1.680707e+07\n",
       "75%    2250.250000  2.900000e+07    10.890983   118.000000  6.891920e+07\n",
       "max    3000.000000  3.800000e+08   294.337037   338.000000  1.519558e+09"
      ]
     },
     "execution_count": 21,
     "metadata": {},
     "output_type": "execute_result"
    }
   ],
   "source": [
    "train_data.describe()"
   ]
  },
  {
   "cell_type": "code",
   "execution_count": 22,
   "id": "2a914734",
   "metadata": {},
   "outputs": [
    {
     "name": "stdout",
     "output_type": "stream",
     "text": [
      "<class 'pandas.core.frame.DataFrame'>\n",
      "RangeIndex: 4398 entries, 0 to 4397\n",
      "Data columns (total 22 columns):\n",
      " #   Column                 Non-Null Count  Dtype  \n",
      "---  ------                 --------------  -----  \n",
      " 0   id                     4398 non-null   int64  \n",
      " 1   belongs_to_collection  877 non-null    object \n",
      " 2   budget                 4398 non-null   int64  \n",
      " 3   genres                 4382 non-null   object \n",
      " 4   homepage               1420 non-null   object \n",
      " 5   imdb_id                4398 non-null   object \n",
      " 6   original_language      4398 non-null   object \n",
      " 7   original_title         4398 non-null   object \n",
      " 8   overview               4384 non-null   object \n",
      " 9   popularity             4398 non-null   float64\n",
      " 10  poster_path            4397 non-null   object \n",
      " 11  production_companies   4140 non-null   object \n",
      " 12  production_countries   4296 non-null   object \n",
      " 13  release_date           4397 non-null   object \n",
      " 14  runtime                4394 non-null   float64\n",
      " 15  spoken_languages       4356 non-null   object \n",
      " 16  status                 4396 non-null   object \n",
      " 17  tagline                3535 non-null   object \n",
      " 18  title                  4395 non-null   object \n",
      " 19  Keywords               4005 non-null   object \n",
      " 20  cast                   4385 non-null   object \n",
      " 21  crew                   4376 non-null   object \n",
      "dtypes: float64(2), int64(2), object(18)\n",
      "memory usage: 756.0+ KB\n"
     ]
    }
   ],
   "source": [
    "test_data.info()"
   ]
  },
  {
   "cell_type": "code",
   "execution_count": 23,
   "id": "ab4a0ea7",
   "metadata": {},
   "outputs": [],
   "source": [
    "test_data.drop(columns=['belongs_to_collection','homepage'],axis = 1 ,inplace=True)\n",
    "test_data.drop(columns=['imdb_id', 'poster_path','tagline', 'overview', 'original_title','Keywords' ,'crew'],axis = 1 ,inplace=True)"
   ]
  },
  {
   "cell_type": "code",
   "execution_count": 24,
   "id": "3d96bc96",
   "metadata": {},
   "outputs": [
    {
     "name": "stdout",
     "output_type": "stream",
     "text": [
      "<class 'pandas.core.frame.DataFrame'>\n",
      "RangeIndex: 4398 entries, 0 to 4397\n",
      "Data columns (total 13 columns):\n",
      " #   Column                Non-Null Count  Dtype  \n",
      "---  ------                --------------  -----  \n",
      " 0   id                    4398 non-null   int64  \n",
      " 1   budget                4398 non-null   int64  \n",
      " 2   genres                4382 non-null   object \n",
      " 3   original_language     4398 non-null   object \n",
      " 4   popularity            4398 non-null   float64\n",
      " 5   production_companies  4140 non-null   object \n",
      " 6   production_countries  4296 non-null   object \n",
      " 7   release_date          4397 non-null   object \n",
      " 8   runtime               4394 non-null   float64\n",
      " 9   spoken_languages      4356 non-null   object \n",
      " 10  status                4396 non-null   object \n",
      " 11  title                 4395 non-null   object \n",
      " 12  cast                  4385 non-null   object \n",
      "dtypes: float64(2), int64(2), object(9)\n",
      "memory usage: 446.8+ KB\n"
     ]
    }
   ],
   "source": [
    "test_data.info()"
   ]
  },
  {
   "cell_type": "markdown",
   "id": "130d9cd8",
   "metadata": {},
   "source": [
    "### data processing"
   ]
  },
  {
   "cell_type": "markdown",
   "id": "a59be17b",
   "metadata": {},
   "source": [
    "### budget vs renveue"
   ]
  },
  {
   "cell_type": "code",
   "execution_count": 25,
   "id": "aa6fa692",
   "metadata": {},
   "outputs": [
    {
     "data": {
      "text/html": [
       "<style type=\"text/css\">\n",
       "#T_b9787_row0_col3 {\n",
       "  background-color: #023858;\n",
       "  color: #f1f1f1;\n",
       "}\n",
       "#T_b9787_row1_col3 {\n",
       "  background-color: #023e62;\n",
       "  color: #f1f1f1;\n",
       "}\n",
       "#T_b9787_row2_col3 {\n",
       "  background-color: #056caa;\n",
       "  color: #f1f1f1;\n",
       "}\n",
       "#T_b9787_row3_col3 {\n",
       "  background-color: #7bacd1;\n",
       "  color: #f1f1f1;\n",
       "}\n",
       "#T_b9787_row4_col3 {\n",
       "  background-color: #dbdaeb;\n",
       "  color: #000000;\n",
       "}\n",
       "#T_b9787_row5_col3 {\n",
       "  background-color: #ede7f2;\n",
       "  color: #000000;\n",
       "}\n",
       "#T_b9787_row6_col3 {\n",
       "  background-color: #f8f1f8;\n",
       "  color: #000000;\n",
       "}\n",
       "#T_b9787_row7_col3 {\n",
       "  background-color: #fef6fa;\n",
       "  color: #000000;\n",
       "}\n",
       "#T_b9787_row8_col3, #T_b9787_row9_col3 {\n",
       "  background-color: #fff7fb;\n",
       "  color: #000000;\n",
       "}\n",
       "</style>\n",
       "<table id=\"T_b9787_\">\n",
       "  <thead>\n",
       "    <tr>\n",
       "      <th class=\"blank level0\" >&nbsp;</th>\n",
       "      <th class=\"col_heading level0 col0\" >id</th>\n",
       "      <th class=\"col_heading level0 col1\" >title</th>\n",
       "      <th class=\"col_heading level0 col2\" >budget</th>\n",
       "      <th class=\"col_heading level0 col3\" >revenue</th>\n",
       "    </tr>\n",
       "  </thead>\n",
       "  <tbody>\n",
       "    <tr>\n",
       "      <th id=\"T_b9787_level0_row0\" class=\"row_heading level0 row0\" >1126</th>\n",
       "      <td id=\"T_b9787_row0_col0\" class=\"data row0 col0\" >1127</td>\n",
       "      <td id=\"T_b9787_row0_col1\" class=\"data row0 col1\" >The Avengers</td>\n",
       "      <td id=\"T_b9787_row0_col2\" class=\"data row0 col2\" >220000000</td>\n",
       "      <td id=\"T_b9787_row0_col3\" class=\"data row0 col3\" >1519557910</td>\n",
       "    </tr>\n",
       "    <tr>\n",
       "      <th id=\"T_b9787_level0_row1\" class=\"row_heading level0 row1\" >1761</th>\n",
       "      <td id=\"T_b9787_row1_col0\" class=\"data row1 col0\" >1762</td>\n",
       "      <td id=\"T_b9787_row1_col1\" class=\"data row1 col1\" >Furious 7</td>\n",
       "      <td id=\"T_b9787_row1_col2\" class=\"data row1 col2\" >190000000</td>\n",
       "      <td id=\"T_b9787_row1_col3\" class=\"data row1 col3\" >1506249360</td>\n",
       "    </tr>\n",
       "    <tr>\n",
       "      <th id=\"T_b9787_level0_row2\" class=\"row_heading level0 row2\" >2770</th>\n",
       "      <td id=\"T_b9787_row2_col0\" class=\"data row2 col0\" >2771</td>\n",
       "      <td id=\"T_b9787_row2_col1\" class=\"data row2 col1\" >Avengers: Age of Ultron</td>\n",
       "      <td id=\"T_b9787_row2_col2\" class=\"data row2 col2\" >280000000</td>\n",
       "      <td id=\"T_b9787_row2_col3\" class=\"data row2 col3\" >1405403694</td>\n",
       "    </tr>\n",
       "    <tr>\n",
       "      <th id=\"T_b9787_level0_row3\" class=\"row_heading level0 row3\" >684</th>\n",
       "      <td id=\"T_b9787_row3_col0\" class=\"data row3 col0\" >685</td>\n",
       "      <td id=\"T_b9787_row3_col1\" class=\"data row3 col1\" >Beauty and the Beast</td>\n",
       "      <td id=\"T_b9787_row3_col2\" class=\"data row3 col2\" >160000000</td>\n",
       "      <td id=\"T_b9787_row3_col3\" class=\"data row3 col3\" >1262886337</td>\n",
       "    </tr>\n",
       "    <tr>\n",
       "      <th id=\"T_b9787_level0_row4\" class=\"row_heading level0 row4\" >2322</th>\n",
       "      <td id=\"T_b9787_row4_col0\" class=\"data row4 col0\" >2323</td>\n",
       "      <td id=\"T_b9787_row4_col1\" class=\"data row4 col1\" >Transformers: Dark of the Moon</td>\n",
       "      <td id=\"T_b9787_row4_col2\" class=\"data row4 col2\" >195000000</td>\n",
       "      <td id=\"T_b9787_row4_col3\" class=\"data row4 col3\" >1123746996</td>\n",
       "    </tr>\n",
       "    <tr>\n",
       "      <th id=\"T_b9787_level0_row5\" class=\"row_heading level0 row5\" >906</th>\n",
       "      <td id=\"T_b9787_row5_col0\" class=\"data row5 col0\" >907</td>\n",
       "      <td id=\"T_b9787_row5_col1\" class=\"data row5 col1\" >The Dark Knight Rises</td>\n",
       "      <td id=\"T_b9787_row5_col2\" class=\"data row5 col2\" >250000000</td>\n",
       "      <td id=\"T_b9787_row5_col3\" class=\"data row5 col3\" >1084939099</td>\n",
       "    </tr>\n",
       "    <tr>\n",
       "      <th id=\"T_b9787_level0_row6\" class=\"row_heading level0 row6\" >2135</th>\n",
       "      <td id=\"T_b9787_row6_col0\" class=\"data row6 col0\" >2136</td>\n",
       "      <td id=\"T_b9787_row6_col1\" class=\"data row6 col1\" >Pirates of the Caribbean: On Stranger Tides</td>\n",
       "      <td id=\"T_b9787_row6_col2\" class=\"data row6 col2\" >380000000</td>\n",
       "      <td id=\"T_b9787_row6_col3\" class=\"data row6 col3\" >1045713802</td>\n",
       "    </tr>\n",
       "    <tr>\n",
       "      <th id=\"T_b9787_level0_row7\" class=\"row_heading level0 row7\" >2562</th>\n",
       "      <td id=\"T_b9787_row7_col0\" class=\"data row7 col0\" >2563</td>\n",
       "      <td id=\"T_b9787_row7_col1\" class=\"data row7 col1\" >Finding Dory</td>\n",
       "      <td id=\"T_b9787_row7_col2\" class=\"data row7 col2\" >200000000</td>\n",
       "      <td id=\"T_b9787_row7_col3\" class=\"data row7 col3\" >1028570889</td>\n",
       "    </tr>\n",
       "    <tr>\n",
       "      <th id=\"T_b9787_level0_row8\" class=\"row_heading level0 row8\" >881</th>\n",
       "      <td id=\"T_b9787_row8_col0\" class=\"data row8 col0\" >882</td>\n",
       "      <td id=\"T_b9787_row8_col1\" class=\"data row8 col1\" >Alice in Wonderland</td>\n",
       "      <td id=\"T_b9787_row8_col2\" class=\"data row8 col2\" >200000000</td>\n",
       "      <td id=\"T_b9787_row8_col3\" class=\"data row8 col3\" >1025491110</td>\n",
       "    </tr>\n",
       "    <tr>\n",
       "      <th id=\"T_b9787_level0_row9\" class=\"row_heading level0 row9\" >734</th>\n",
       "      <td id=\"T_b9787_row9_col0\" class=\"data row9 col0\" >735</td>\n",
       "      <td id=\"T_b9787_row9_col1\" class=\"data row9 col1\" >Zootopia</td>\n",
       "      <td id=\"T_b9787_row9_col2\" class=\"data row9 col2\" >150000000</td>\n",
       "      <td id=\"T_b9787_row9_col3\" class=\"data row9 col3\" >1023784195</td>\n",
       "    </tr>\n",
       "  </tbody>\n",
       "</table>\n"
      ],
      "text/plain": [
       "<pandas.io.formats.style.Styler at 0x23481d6b790>"
      ]
     },
     "execution_count": 25,
     "metadata": {},
     "output_type": "execute_result"
    }
   ],
   "source": [
    "train_data[['id','title','budget','revenue']].sort_values(['revenue'], ascending=False).head(10).style.background_gradient(subset='revenue', cmap='PuBu')"
   ]
  },
  {
   "cell_type": "code",
   "execution_count": 26,
   "id": "802415de",
   "metadata": {},
   "outputs": [
    {
     "data": {
      "text/plain": [
       "Text(0, 0.5, 'Revenue')"
      ]
     },
     "execution_count": 26,
     "metadata": {},
     "output_type": "execute_result"
    },
    {
     "data": {
      "image/png": "[encoded data removed]",
      "text/plain": [
       "<Figure size 720x432 with 1 Axes>"
      ]
     },
     "metadata": {},
     "output_type": "display_data"
    }
   ],
   "source": [
    "fig, ax  = plt.subplots(figsize = (10, 6))\n",
    "ax.scatter(train_data['budget'], train_data['revenue'],alpha=0.5)\n",
    "ax.set_xlabel('Budget')\n",
    "ax.set_ylabel('Revenue')"
   ]
  },
  {
   "cell_type": "markdown",
   "id": "d2bbaec9",
   "metadata": {},
   "source": [
    "  At the first glance, budget seems to have a relatively high positive correlation with revenue."
   ]
  },
  {
   "cell_type": "markdown",
   "id": "9241d45d",
   "metadata": {},
   "source": [
    "### genres VS revenue\t"
   ]
  },
  {
   "cell_type": "code",
   "execution_count": 27,
   "id": "43483feb",
   "metadata": {},
   "outputs": [
    {
     "data": {
      "text/plain": [
       "\"[{'id': 35, 'name': 'Comedy'}]\""
      ]
     },
     "execution_count": 27,
     "metadata": {},
     "output_type": "execute_result"
    }
   ],
   "source": [
    "train_data['genres'][0]"
   ]
  },
  {
   "cell_type": "code",
   "execution_count": 28,
   "id": "100269bf",
   "metadata": {},
   "outputs": [
    {
     "data": {
      "text/plain": [
       "0                       [{'id': 35, 'name': 'Comedy'}]\n",
       "1    [{'id': 35, 'name': 'Comedy'}, {'id': 18, 'nam...\n",
       "2                        [{'id': 18, 'name': 'Drama'}]\n",
       "3    [{'id': 53, 'name': 'Thriller'}, {'id': 18, 'n...\n",
       "4    [{'id': 28, 'name': 'Action'}, {'id': 53, 'nam...\n",
       "Name: genres, dtype: object"
      ]
     },
     "execution_count": 28,
     "metadata": {},
     "output_type": "execute_result"
    }
   ],
   "source": [
    "# Extract genres\n",
    "genres=train_data.loc[:,[\"genres\"]]\n",
    "genres[\"genres\"]=train_data['genres'].fillna(\"None\")\n",
    "genres[\"genres\"].head(5)"
   ]
  },
  {
   "cell_type": "code",
   "execution_count": 29,
   "id": "8ba38479",
   "metadata": {},
   "outputs": [],
   "source": [
    "def extract_genres(row):\n",
    "    if row == \"None\":\n",
    "        return ['None']\n",
    "    else:\n",
    "        results = re.findall(r\"'name': '(\\w+\\s?\\w+)'\", row)\n",
    "        return results\n",
    "    \n",
    "genres[\"genres\"] = genres[\"genres\"].apply(extract_genres)"
   ]
  },
  {
   "cell_type": "code",
   "execution_count": 30,
   "id": "c21be0a6",
   "metadata": {},
   "outputs": [
    {
     "data": {
      "text/html": [
       "<div>\n",
       "<style scoped>\n",
       "    .dataframe tbody tr th:only-of-type {\n",
       "        vertical-align: middle;\n",
       "    }\n",
       "\n",
       "    .dataframe tbody tr th {\n",
       "        vertical-align: top;\n",
       "    }\n",
       "\n",
       "    .dataframe thead th {\n",
       "        text-align: right;\n",
       "    }\n",
       "</style>\n",
       "<table border=\"1\" class=\"dataframe\">\n",
       "  <thead>\n",
       "    <tr style=\"text-align: right;\">\n",
       "      <th></th>\n",
       "      <th>genres</th>\n",
       "    </tr>\n",
       "  </thead>\n",
       "  <tbody>\n",
       "    <tr>\n",
       "      <th>0</th>\n",
       "      <td>[Comedy]</td>\n",
       "    </tr>\n",
       "    <tr>\n",
       "      <th>1</th>\n",
       "      <td>[Comedy, Drama, Family, Romance]</td>\n",
       "    </tr>\n",
       "    <tr>\n",
       "      <th>2</th>\n",
       "      <td>[Drama]</td>\n",
       "    </tr>\n",
       "    <tr>\n",
       "      <th>3</th>\n",
       "      <td>[Thriller, Drama]</td>\n",
       "    </tr>\n",
       "    <tr>\n",
       "      <th>4</th>\n",
       "      <td>[Action, Thriller]</td>\n",
       "    </tr>\n",
       "    <tr>\n",
       "      <th>...</th>\n",
       "      <td>...</td>\n",
       "    </tr>\n",
       "    <tr>\n",
       "      <th>2995</th>\n",
       "      <td>[Comedy, Romance]</td>\n",
       "    </tr>\n",
       "    <tr>\n",
       "      <th>2996</th>\n",
       "      <td>[Drama, Music]</td>\n",
       "    </tr>\n",
       "    <tr>\n",
       "      <th>2997</th>\n",
       "      <td>[Crime, Action, Mystery, Thriller]</td>\n",
       "    </tr>\n",
       "    <tr>\n",
       "      <th>2998</th>\n",
       "      <td>[Comedy, Romance]</td>\n",
       "    </tr>\n",
       "    <tr>\n",
       "      <th>2999</th>\n",
       "      <td>[Thriller, Action, Mystery]</td>\n",
       "    </tr>\n",
       "  </tbody>\n",
       "</table>\n",
       "<p>3000 rows × 1 columns</p>\n",
       "</div>"
      ],
      "text/plain": [
       "                                  genres\n",
       "0                               [Comedy]\n",
       "1       [Comedy, Drama, Family, Romance]\n",
       "2                                [Drama]\n",
       "3                      [Thriller, Drama]\n",
       "4                     [Action, Thriller]\n",
       "...                                  ...\n",
       "2995                   [Comedy, Romance]\n",
       "2996                      [Drama, Music]\n",
       "2997  [Crime, Action, Mystery, Thriller]\n",
       "2998                   [Comedy, Romance]\n",
       "2999         [Thriller, Action, Mystery]\n",
       "\n",
       "[3000 rows x 1 columns]"
      ]
     },
     "execution_count": 30,
     "metadata": {},
     "output_type": "execute_result"
    }
   ],
   "source": [
    "pd.DataFrame(genres[\"genres\"])"
   ]
  },
  {
   "cell_type": "code",
   "execution_count": 31,
   "id": "5bd7d971",
   "metadata": {},
   "outputs": [],
   "source": [
    "genres_dict = dict()\n",
    "for genre in genres[\"genres\"]:\n",
    "    for elem in genre:\n",
    "        if elem not in genres_dict:\n",
    "            genres_dict[elem] = 1\n",
    "        else:\n",
    "            genres_dict[elem] += 1\n",
    "genres_df = pd.DataFrame.from_dict(genres_dict, orient='index')\n",
    "genres_df.columns=['Movie Numbers']\n",
    "genres_df = genres_df.sort_values(by='Movie Numbers',ascending=False)"
   ]
  },
  {
   "cell_type": "code",
   "execution_count": 32,
   "id": "fb209a73",
   "metadata": {},
   "outputs": [
    {
     "data": {
      "text/html": [
       "<div>\n",
       "<style scoped>\n",
       "    .dataframe tbody tr th:only-of-type {\n",
       "        vertical-align: middle;\n",
       "    }\n",
       "\n",
       "    .dataframe tbody tr th {\n",
       "        vertical-align: top;\n",
       "    }\n",
       "\n",
       "    .dataframe thead th {\n",
       "        text-align: right;\n",
       "    }\n",
       "</style>\n",
       "<table border=\"1\" class=\"dataframe\">\n",
       "  <thead>\n",
       "    <tr style=\"text-align: right;\">\n",
       "      <th></th>\n",
       "      <th>Movie Numbers</th>\n",
       "    </tr>\n",
       "  </thead>\n",
       "  <tbody>\n",
       "    <tr>\n",
       "      <th>Drama</th>\n",
       "      <td>1531</td>\n",
       "    </tr>\n",
       "    <tr>\n",
       "      <th>Comedy</th>\n",
       "      <td>1028</td>\n",
       "    </tr>\n",
       "    <tr>\n",
       "      <th>Thriller</th>\n",
       "      <td>789</td>\n",
       "    </tr>\n",
       "    <tr>\n",
       "      <th>Action</th>\n",
       "      <td>741</td>\n",
       "    </tr>\n",
       "    <tr>\n",
       "      <th>Romance</th>\n",
       "      <td>571</td>\n",
       "    </tr>\n",
       "    <tr>\n",
       "      <th>Crime</th>\n",
       "      <td>469</td>\n",
       "    </tr>\n",
       "    <tr>\n",
       "      <th>Adventure</th>\n",
       "      <td>439</td>\n",
       "    </tr>\n",
       "    <tr>\n",
       "      <th>Horror</th>\n",
       "      <td>301</td>\n",
       "    </tr>\n",
       "    <tr>\n",
       "      <th>Science Fiction</th>\n",
       "      <td>290</td>\n",
       "    </tr>\n",
       "    <tr>\n",
       "      <th>Family</th>\n",
       "      <td>260</td>\n",
       "    </tr>\n",
       "    <tr>\n",
       "      <th>Fantasy</th>\n",
       "      <td>232</td>\n",
       "    </tr>\n",
       "    <tr>\n",
       "      <th>Mystery</th>\n",
       "      <td>225</td>\n",
       "    </tr>\n",
       "    <tr>\n",
       "      <th>Animation</th>\n",
       "      <td>141</td>\n",
       "    </tr>\n",
       "    <tr>\n",
       "      <th>History</th>\n",
       "      <td>132</td>\n",
       "    </tr>\n",
       "    <tr>\n",
       "      <th>War</th>\n",
       "      <td>100</td>\n",
       "    </tr>\n",
       "    <tr>\n",
       "      <th>Music</th>\n",
       "      <td>100</td>\n",
       "    </tr>\n",
       "    <tr>\n",
       "      <th>Documentary</th>\n",
       "      <td>87</td>\n",
       "    </tr>\n",
       "    <tr>\n",
       "      <th>Western</th>\n",
       "      <td>43</td>\n",
       "    </tr>\n",
       "    <tr>\n",
       "      <th>Foreign</th>\n",
       "      <td>31</td>\n",
       "    </tr>\n",
       "    <tr>\n",
       "      <th>None</th>\n",
       "      <td>7</td>\n",
       "    </tr>\n",
       "    <tr>\n",
       "      <th>TV Movie</th>\n",
       "      <td>1</td>\n",
       "    </tr>\n",
       "  </tbody>\n",
       "</table>\n",
       "</div>"
      ],
      "text/plain": [
       "                 Movie Numbers\n",
       "Drama                     1531\n",
       "Comedy                    1028\n",
       "Thriller                   789\n",
       "Action                     741\n",
       "Romance                    571\n",
       "Crime                      469\n",
       "Adventure                  439\n",
       "Horror                     301\n",
       "Science Fiction            290\n",
       "Family                     260\n",
       "Fantasy                    232\n",
       "Mystery                    225\n",
       "Animation                  141\n",
       "History                    132\n",
       "War                        100\n",
       "Music                      100\n",
       "Documentary                 87\n",
       "Western                     43\n",
       "Foreign                     31\n",
       "None                         7\n",
       "TV Movie                     1"
      ]
     },
     "execution_count": 32,
     "metadata": {},
     "output_type": "execute_result"
    }
   ],
   "source": [
    "genres_df"
   ]
  },
  {
   "cell_type": "code",
   "execution_count": 33,
   "id": "d6f213b9",
   "metadata": {},
   "outputs": [
    {
     "data": {
      "text/plain": [
       "<AxesSubplot:>"
      ]
     },
     "execution_count": 33,
     "metadata": {},
     "output_type": "execute_result"
    },
    {
     "data": {
      "image/png": "[encoded data removed]",
      "text/plain": [
       "<Figure size 1080x648 with 1 Axes>"
      ]
     },
     "metadata": {},
     "output_type": "display_data"
    }
   ],
   "source": [
    "genres_df.plot.bar()"
   ]
  },
  {
   "cell_type": "markdown",
   "id": "7bf7dba8",
   "metadata": {},
   "source": [
    "### popularity VS revenue"
   ]
  },
  {
   "cell_type": "code",
   "execution_count": 34,
   "id": "42440868",
   "metadata": {},
   "outputs": [
    {
     "data": {
      "text/plain": [
       "Text(0, 0.5, 'Revenue')"
      ]
     },
     "execution_count": 34,
     "metadata": {},
     "output_type": "execute_result"
    },
    {
     "data": {
      "image/png": "[encoded data removed]",
      "text/plain": [
       "<Figure size 720x432 with 1 Axes>"
      ]
     },
     "metadata": {},
     "output_type": "display_data"
    }
   ],
   "source": [
    "fig, ax  = plt.subplots(figsize = (10, 6))\n",
    "ax.scatter(train_data['popularity'], train_data['revenue'],alpha=0.5)\n",
    "ax.set_xlabel('Popularity')\n",
    "ax.set_ylabel('Revenue')"
   ]
  },
  {
   "cell_type": "code",
   "execution_count": 35,
   "id": "eafc7d78",
   "metadata": {},
   "outputs": [
    {
     "data": {
      "text/html": [
       "<style type=\"text/css\">\n",
       "#T_d4091_row0_col3 {\n",
       "  background-color: #023858;\n",
       "  color: #f1f1f1;\n",
       "}\n",
       "#T_d4091_row1_col3 {\n",
       "  background-color: #023e62;\n",
       "  color: #f1f1f1;\n",
       "}\n",
       "#T_d4091_row2_col3 {\n",
       "  background-color: #056caa;\n",
       "  color: #f1f1f1;\n",
       "}\n",
       "#T_d4091_row3_col3 {\n",
       "  background-color: #7bacd1;\n",
       "  color: #f1f1f1;\n",
       "}\n",
       "#T_d4091_row4_col3 {\n",
       "  background-color: #dbdaeb;\n",
       "  color: #000000;\n",
       "}\n",
       "#T_d4091_row5_col3 {\n",
       "  background-color: #ede7f2;\n",
       "  color: #000000;\n",
       "}\n",
       "#T_d4091_row6_col3 {\n",
       "  background-color: #f8f1f8;\n",
       "  color: #000000;\n",
       "}\n",
       "#T_d4091_row7_col3 {\n",
       "  background-color: #fef6fa;\n",
       "  color: #000000;\n",
       "}\n",
       "#T_d4091_row8_col3, #T_d4091_row9_col3 {\n",
       "  background-color: #fff7fb;\n",
       "  color: #000000;\n",
       "}\n",
       "</style>\n",
       "<table id=\"T_d4091_\">\n",
       "  <thead>\n",
       "    <tr>\n",
       "      <th class=\"blank level0\" >&nbsp;</th>\n",
       "      <th class=\"col_heading level0 col0\" >id</th>\n",
       "      <th class=\"col_heading level0 col1\" >title</th>\n",
       "      <th class=\"col_heading level0 col2\" >popularity</th>\n",
       "      <th class=\"col_heading level0 col3\" >revenue</th>\n",
       "    </tr>\n",
       "  </thead>\n",
       "  <tbody>\n",
       "    <tr>\n",
       "      <th id=\"T_d4091_level0_row0\" class=\"row_heading level0 row0\" >1126</th>\n",
       "      <td id=\"T_d4091_row0_col0\" class=\"data row0 col0\" >1127</td>\n",
       "      <td id=\"T_d4091_row0_col1\" class=\"data row0 col1\" >The Avengers</td>\n",
       "      <td id=\"T_d4091_row0_col2\" class=\"data row0 col2\" >89.887648</td>\n",
       "      <td id=\"T_d4091_row0_col3\" class=\"data row0 col3\" >1519557910</td>\n",
       "    </tr>\n",
       "    <tr>\n",
       "      <th id=\"T_d4091_level0_row1\" class=\"row_heading level0 row1\" >1761</th>\n",
       "      <td id=\"T_d4091_row1_col0\" class=\"data row1 col0\" >1762</td>\n",
       "      <td id=\"T_d4091_row1_col1\" class=\"data row1 col1\" >Furious 7</td>\n",
       "      <td id=\"T_d4091_row1_col2\" class=\"data row1 col2\" >27.275687</td>\n",
       "      <td id=\"T_d4091_row1_col3\" class=\"data row1 col3\" >1506249360</td>\n",
       "    </tr>\n",
       "    <tr>\n",
       "      <th id=\"T_d4091_level0_row2\" class=\"row_heading level0 row2\" >2770</th>\n",
       "      <td id=\"T_d4091_row2_col0\" class=\"data row2 col0\" >2771</td>\n",
       "      <td id=\"T_d4091_row2_col1\" class=\"data row2 col1\" >Avengers: Age of Ultron</td>\n",
       "      <td id=\"T_d4091_row2_col2\" class=\"data row2 col2\" >37.379420</td>\n",
       "      <td id=\"T_d4091_row2_col3\" class=\"data row2 col3\" >1405403694</td>\n",
       "    </tr>\n",
       "    <tr>\n",
       "      <th id=\"T_d4091_level0_row3\" class=\"row_heading level0 row3\" >684</th>\n",
       "      <td id=\"T_d4091_row3_col0\" class=\"data row3 col0\" >685</td>\n",
       "      <td id=\"T_d4091_row3_col1\" class=\"data row3 col1\" >Beauty and the Beast</td>\n",
       "      <td id=\"T_d4091_row3_col2\" class=\"data row3 col2\" >287.253654</td>\n",
       "      <td id=\"T_d4091_row3_col3\" class=\"data row3 col3\" >1262886337</td>\n",
       "    </tr>\n",
       "    <tr>\n",
       "      <th id=\"T_d4091_level0_row4\" class=\"row_heading level0 row4\" >2322</th>\n",
       "      <td id=\"T_d4091_row4_col0\" class=\"data row4 col0\" >2323</td>\n",
       "      <td id=\"T_d4091_row4_col1\" class=\"data row4 col1\" >Transformers: Dark of the Moon</td>\n",
       "      <td id=\"T_d4091_row4_col2\" class=\"data row4 col2\" >4.503505</td>\n",
       "      <td id=\"T_d4091_row4_col3\" class=\"data row4 col3\" >1123746996</td>\n",
       "    </tr>\n",
       "    <tr>\n",
       "      <th id=\"T_d4091_level0_row5\" class=\"row_heading level0 row5\" >906</th>\n",
       "      <td id=\"T_d4091_row5_col0\" class=\"data row5 col0\" >907</td>\n",
       "      <td id=\"T_d4091_row5_col1\" class=\"data row5 col1\" >The Dark Knight Rises</td>\n",
       "      <td id=\"T_d4091_row5_col2\" class=\"data row5 col2\" >20.582580</td>\n",
       "      <td id=\"T_d4091_row5_col3\" class=\"data row5 col3\" >1084939099</td>\n",
       "    </tr>\n",
       "    <tr>\n",
       "      <th id=\"T_d4091_level0_row6\" class=\"row_heading level0 row6\" >2135</th>\n",
       "      <td id=\"T_d4091_row6_col0\" class=\"data row6 col0\" >2136</td>\n",
       "      <td id=\"T_d4091_row6_col1\" class=\"data row6 col1\" >Pirates of the Caribbean: On Stranger Tides</td>\n",
       "      <td id=\"T_d4091_row6_col2\" class=\"data row6 col2\" >27.887720</td>\n",
       "      <td id=\"T_d4091_row6_col3\" class=\"data row6 col3\" >1045713802</td>\n",
       "    </tr>\n",
       "    <tr>\n",
       "      <th id=\"T_d4091_level0_row7\" class=\"row_heading level0 row7\" >2562</th>\n",
       "      <td id=\"T_d4091_row7_col0\" class=\"data row7 col0\" >2563</td>\n",
       "      <td id=\"T_d4091_row7_col1\" class=\"data row7 col1\" >Finding Dory</td>\n",
       "      <td id=\"T_d4091_row7_col2\" class=\"data row7 col2\" >14.477677</td>\n",
       "      <td id=\"T_d4091_row7_col3\" class=\"data row7 col3\" >1028570889</td>\n",
       "    </tr>\n",
       "    <tr>\n",
       "      <th id=\"T_d4091_level0_row8\" class=\"row_heading level0 row8\" >881</th>\n",
       "      <td id=\"T_d4091_row8_col0\" class=\"data row8 col0\" >882</td>\n",
       "      <td id=\"T_d4091_row8_col1\" class=\"data row8 col1\" >Alice in Wonderland</td>\n",
       "      <td id=\"T_d4091_row8_col2\" class=\"data row8 col2\" >17.285093</td>\n",
       "      <td id=\"T_d4091_row8_col3\" class=\"data row8 col3\" >1025491110</td>\n",
       "    </tr>\n",
       "    <tr>\n",
       "      <th id=\"T_d4091_level0_row9\" class=\"row_heading level0 row9\" >734</th>\n",
       "      <td id=\"T_d4091_row9_col0\" class=\"data row9 col0\" >735</td>\n",
       "      <td id=\"T_d4091_row9_col1\" class=\"data row9 col1\" >Zootopia</td>\n",
       "      <td id=\"T_d4091_row9_col2\" class=\"data row9 col2\" >26.024868</td>\n",
       "      <td id=\"T_d4091_row9_col3\" class=\"data row9 col3\" >1023784195</td>\n",
       "    </tr>\n",
       "  </tbody>\n",
       "</table>\n"
      ],
      "text/plain": [
       "<pandas.io.formats.style.Styler at 0x23482683280>"
      ]
     },
     "execution_count": 35,
     "metadata": {},
     "output_type": "execute_result"
    }
   ],
   "source": [
    "train_data[['id','title','popularity','revenue']].sort_values(['revenue'], ascending=False).head(10).style.background_gradient(subset='revenue', cmap='PuBu')"
   ]
  },
  {
   "cell_type": "code",
   "execution_count": 36,
   "id": "ed03fadf",
   "metadata": {},
   "outputs": [
    {
     "data": {
      "image/png": "[encoded data removed]",
      "text/plain": [
       "<Figure size 864x576 with 1 Axes>"
      ]
     },
     "metadata": {},
     "output_type": "display_data"
    }
   ],
   "source": [
    "plt.figure(figsize=(12,8))\n",
    "edgecolor=(0,0,0),\n",
    "sns.histplot(train_data['popularity'].T, kde=False)\n",
    "plt.title(\"Movie Popularity Count\",fontsize=15)\n",
    "plt.xlabel('Popularity')\n",
    "plt.ylabel('Count')\n",
    "plt.xticks(fontsize=12)\n",
    "plt.show()"
   ]
  },
  {
   "cell_type": "markdown",
   "id": "cb446959",
   "metadata": {},
   "source": [
    "### release_date vs revenue"
   ]
  },
  {
   "cell_type": "code",
   "execution_count": 37,
   "id": "c721cbf3",
   "metadata": {},
   "outputs": [
    {
     "data": {
      "text/plain": [
       "0        2/20/15\n",
       "1         8/6/04\n",
       "2       10/10/14\n",
       "3         3/9/12\n",
       "4         2/5/09\n",
       "          ...   \n",
       "2995     4/22/94\n",
       "2996     3/28/13\n",
       "2997    10/11/96\n",
       "2998     1/16/04\n",
       "2999     9/22/11\n",
       "Name: release_date, Length: 3000, dtype: object"
      ]
     },
     "execution_count": 37,
     "metadata": {},
     "output_type": "execute_result"
    }
   ],
   "source": [
    "train_data['release_date']"
   ]
  },
  {
   "cell_type": "code",
   "execution_count": 38,
   "id": "e282cf8a",
   "metadata": {},
   "outputs": [],
   "source": [
    "#Extract release_date\n",
    "train_data[['release_month', 'release_day', 'release_year']] = train_data['release_date'].str.split('/', expand = True).replace(np.nan, -1)"
   ]
  },
  {
   "cell_type": "code",
   "execution_count": 39,
   "id": "2400fac6",
   "metadata": {},
   "outputs": [],
   "source": [
    "train_data['release_month'] = train_data['release_month'].astype(int)\n",
    "train_data['release_day'] = train_data['release_day'].astype(int)\n",
    "train_data['release_year'] = train_data['release_year'].astype(int)\n",
    "train_data['day_of_Week'] = (pd.to_datetime(train_data[\"release_date\"]).dt.dayofweek)\n",
    "train_data.loc[(train_data['release_year'] <= 19) & (train_data['release_year'] < 100), \"release_year\"] += 2000\n",
    "train_data.loc[(train_data['release_year'] > 19)  & (train_data['release_year'] < 100), \"release_year\"] += 1900   "
   ]
  },
  {
   "cell_type": "code",
   "execution_count": 40,
   "id": "ef86d90f",
   "metadata": {},
   "outputs": [
    {
     "data": {
      "text/plain": [
       "[8, 9, 11, 7, 3, 2, 5, 1, 4, 10, 0, 6]"
      ]
     },
     "execution_count": 40,
     "metadata": {},
     "output_type": "execute_result"
    }
   ],
   "source": [
    "indices = list([x - 1 for x in train_data.release_month.value_counts().index])\n",
    "indices"
   ]
  },
  {
   "cell_type": "code",
   "execution_count": 41,
   "id": "7fd838d0",
   "metadata": {},
   "outputs": [
    {
     "data": {
      "text/plain": [
       "1     212\n",
       "2     226\n",
       "3     238\n",
       "4     245\n",
       "5     224\n",
       "6     237\n",
       "7     209\n",
       "8     256\n",
       "9     362\n",
       "10    307\n",
       "11    221\n",
       "12    263\n",
       "Name: release_month, dtype: int64"
      ]
     },
     "execution_count": 41,
     "metadata": {},
     "output_type": "execute_result"
    }
   ],
   "source": [
    "train_data.release_month.value_counts().sort_index()"
   ]
  },
  {
   "cell_type": "code",
   "execution_count": 42,
   "id": "d5ce9174",
   "metadata": {},
   "outputs": [
    {
     "data": {
      "text/html": [
       "<div>\n",
       "<style scoped>\n",
       "    .dataframe tbody tr th:only-of-type {\n",
       "        vertical-align: middle;\n",
       "    }\n",
       "\n",
       "    .dataframe tbody tr th {\n",
       "        vertical-align: top;\n",
       "    }\n",
       "\n",
       "    .dataframe thead th {\n",
       "        text-align: right;\n",
       "    }\n",
       "</style>\n",
       "<table border=\"1\" class=\"dataframe\">\n",
       "  <thead>\n",
       "    <tr style=\"text-align: right;\">\n",
       "      <th></th>\n",
       "      <th>release_month</th>\n",
       "      <th>release_day</th>\n",
       "      <th>release_year</th>\n",
       "      <th>day_of_Week</th>\n",
       "    </tr>\n",
       "  </thead>\n",
       "  <tbody>\n",
       "    <tr>\n",
       "      <th>0</th>\n",
       "      <td>2</td>\n",
       "      <td>20</td>\n",
       "      <td>2015</td>\n",
       "      <td>4</td>\n",
       "    </tr>\n",
       "    <tr>\n",
       "      <th>1</th>\n",
       "      <td>8</td>\n",
       "      <td>6</td>\n",
       "      <td>2004</td>\n",
       "      <td>4</td>\n",
       "    </tr>\n",
       "    <tr>\n",
       "      <th>2</th>\n",
       "      <td>10</td>\n",
       "      <td>10</td>\n",
       "      <td>2014</td>\n",
       "      <td>4</td>\n",
       "    </tr>\n",
       "    <tr>\n",
       "      <th>3</th>\n",
       "      <td>3</td>\n",
       "      <td>9</td>\n",
       "      <td>2012</td>\n",
       "      <td>4</td>\n",
       "    </tr>\n",
       "    <tr>\n",
       "      <th>4</th>\n",
       "      <td>2</td>\n",
       "      <td>5</td>\n",
       "      <td>2009</td>\n",
       "      <td>3</td>\n",
       "    </tr>\n",
       "    <tr>\n",
       "      <th>...</th>\n",
       "      <td>...</td>\n",
       "      <td>...</td>\n",
       "      <td>...</td>\n",
       "      <td>...</td>\n",
       "    </tr>\n",
       "    <tr>\n",
       "      <th>2995</th>\n",
       "      <td>4</td>\n",
       "      <td>22</td>\n",
       "      <td>1994</td>\n",
       "      <td>4</td>\n",
       "    </tr>\n",
       "    <tr>\n",
       "      <th>2996</th>\n",
       "      <td>3</td>\n",
       "      <td>28</td>\n",
       "      <td>2013</td>\n",
       "      <td>3</td>\n",
       "    </tr>\n",
       "    <tr>\n",
       "      <th>2997</th>\n",
       "      <td>10</td>\n",
       "      <td>11</td>\n",
       "      <td>1996</td>\n",
       "      <td>4</td>\n",
       "    </tr>\n",
       "    <tr>\n",
       "      <th>2998</th>\n",
       "      <td>1</td>\n",
       "      <td>16</td>\n",
       "      <td>2004</td>\n",
       "      <td>4</td>\n",
       "    </tr>\n",
       "    <tr>\n",
       "      <th>2999</th>\n",
       "      <td>9</td>\n",
       "      <td>22</td>\n",
       "      <td>2011</td>\n",
       "      <td>3</td>\n",
       "    </tr>\n",
       "  </tbody>\n",
       "</table>\n",
       "<p>3000 rows × 4 columns</p>\n",
       "</div>"
      ],
      "text/plain": [
       "      release_month  release_day  release_year  day_of_Week\n",
       "0                 2           20          2015            4\n",
       "1                 8            6          2004            4\n",
       "2                10           10          2014            4\n",
       "3                 3            9          2012            4\n",
       "4                 2            5          2009            3\n",
       "...             ...          ...           ...          ...\n",
       "2995              4           22          1994            4\n",
       "2996              3           28          2013            3\n",
       "2997             10           11          1996            4\n",
       "2998              1           16          2004            4\n",
       "2999              9           22          2011            3\n",
       "\n",
       "[3000 rows x 4 columns]"
      ]
     },
     "execution_count": 42,
     "metadata": {},
     "output_type": "execute_result"
    }
   ],
   "source": [
    "train_data[['release_month','release_day','release_year','day_of_Week']]"
   ]
  },
  {
   "cell_type": "code",
   "execution_count": 43,
   "id": "4bbb07d0",
   "metadata": {},
   "outputs": [],
   "source": [
    "#Extract release_date\n",
    "test_data[['release_month', 'release_day', 'release_year']] = test_data['release_date'].str.split('/', expand = True).replace(np.nan, -1)"
   ]
  },
  {
   "cell_type": "code",
   "execution_count": 44,
   "id": "03c22be5",
   "metadata": {},
   "outputs": [],
   "source": [
    "test_data['release_month'] = test_data['release_month'].astype(int)\n",
    "test_data['release_day'] = test_data['release_day'].astype(int)\n",
    "test_data['release_year'] = test_data['release_year'].astype(int)\n",
    "test_data['day_of_Week'] = (pd.to_datetime(test_data[\"release_date\"]).dt.dayofweek)\n",
    "test_data.loc[(test_data['release_year'] <= 19) & (test_data['release_year'] < 100), \"release_year\"] += 2000\n",
    "test_data.loc[(test_data['release_year'] > 19)  & (test_data['release_year'] < 100), \"release_year\"] += 1900   "
   ]
  },
  {
   "cell_type": "code",
   "execution_count": 45,
   "id": "33f1d227",
   "metadata": {},
   "outputs": [
    {
     "data": {
      "text/plain": [
       "[8, 11, 7, 9, 4, 5, 6, 2, 10, 3, 0, 1, -2]"
      ]
     },
     "execution_count": 45,
     "metadata": {},
     "output_type": "execute_result"
    }
   ],
   "source": [
    "indices = list([x - 1 for x in test_data.release_month.value_counts().index])\n",
    "indices"
   ]
  },
  {
   "cell_type": "code",
   "execution_count": 46,
   "id": "50a386d9",
   "metadata": {},
   "outputs": [
    {
     "data": {
      "text/plain": [
       "-1       1\n",
       " 1     300\n",
       " 2     293\n",
       " 3     326\n",
       " 4     313\n",
       " 5     361\n",
       " 6     359\n",
       " 7     358\n",
       " 8     402\n",
       " 9     542\n",
       " 10    390\n",
       " 11    320\n",
       " 12    433\n",
       "Name: release_month, dtype: int64"
      ]
     },
     "execution_count": 46,
     "metadata": {},
     "output_type": "execute_result"
    }
   ],
   "source": [
    "test_data.release_month.value_counts().sort_index()"
   ]
  },
  {
   "cell_type": "code",
   "execution_count": 47,
   "id": "2530a124",
   "metadata": {},
   "outputs": [
    {
     "data": {
      "text/html": [
       "<div>\n",
       "<style scoped>\n",
       "    .dataframe tbody tr th:only-of-type {\n",
       "        vertical-align: middle;\n",
       "    }\n",
       "\n",
       "    .dataframe tbody tr th {\n",
       "        vertical-align: top;\n",
       "    }\n",
       "\n",
       "    .dataframe thead th {\n",
       "        text-align: right;\n",
       "    }\n",
       "</style>\n",
       "<table border=\"1\" class=\"dataframe\">\n",
       "  <thead>\n",
       "    <tr style=\"text-align: right;\">\n",
       "      <th></th>\n",
       "      <th>release_month</th>\n",
       "      <th>release_day</th>\n",
       "      <th>release_year</th>\n",
       "      <th>day_of_Week</th>\n",
       "    </tr>\n",
       "  </thead>\n",
       "  <tbody>\n",
       "    <tr>\n",
       "      <th>0</th>\n",
       "      <td>7</td>\n",
       "      <td>14</td>\n",
       "      <td>2007</td>\n",
       "      <td>5.0</td>\n",
       "    </tr>\n",
       "    <tr>\n",
       "      <th>1</th>\n",
       "      <td>5</td>\n",
       "      <td>19</td>\n",
       "      <td>1958</td>\n",
       "      <td>6.0</td>\n",
       "    </tr>\n",
       "    <tr>\n",
       "      <th>2</th>\n",
       "      <td>5</td>\n",
       "      <td>23</td>\n",
       "      <td>1997</td>\n",
       "      <td>4.0</td>\n",
       "    </tr>\n",
       "    <tr>\n",
       "      <th>3</th>\n",
       "      <td>9</td>\n",
       "      <td>4</td>\n",
       "      <td>2010</td>\n",
       "      <td>5.0</td>\n",
       "    </tr>\n",
       "    <tr>\n",
       "      <th>4</th>\n",
       "      <td>2</td>\n",
       "      <td>11</td>\n",
       "      <td>2005</td>\n",
       "      <td>4.0</td>\n",
       "    </tr>\n",
       "    <tr>\n",
       "      <th>...</th>\n",
       "      <td>...</td>\n",
       "      <td>...</td>\n",
       "      <td>...</td>\n",
       "      <td>...</td>\n",
       "    </tr>\n",
       "    <tr>\n",
       "      <th>4393</th>\n",
       "      <td>8</td>\n",
       "      <td>3</td>\n",
       "      <td>2001</td>\n",
       "      <td>4.0</td>\n",
       "    </tr>\n",
       "    <tr>\n",
       "      <th>4394</th>\n",
       "      <td>8</td>\n",
       "      <td>20</td>\n",
       "      <td>2004</td>\n",
       "      <td>4.0</td>\n",
       "    </tr>\n",
       "    <tr>\n",
       "      <th>4395</th>\n",
       "      <td>12</td>\n",
       "      <td>8</td>\n",
       "      <td>1982</td>\n",
       "      <td>2.0</td>\n",
       "    </tr>\n",
       "    <tr>\n",
       "      <th>4396</th>\n",
       "      <td>2</td>\n",
       "      <td>4</td>\n",
       "      <td>2015</td>\n",
       "      <td>2.0</td>\n",
       "    </tr>\n",
       "    <tr>\n",
       "      <th>4397</th>\n",
       "      <td>9</td>\n",
       "      <td>20</td>\n",
       "      <td>1962</td>\n",
       "      <td>2.0</td>\n",
       "    </tr>\n",
       "  </tbody>\n",
       "</table>\n",
       "<p>4398 rows × 4 columns</p>\n",
       "</div>"
      ],
      "text/plain": [
       "      release_month  release_day  release_year  day_of_Week\n",
       "0                 7           14          2007          5.0\n",
       "1                 5           19          1958          6.0\n",
       "2                 5           23          1997          4.0\n",
       "3                 9            4          2010          5.0\n",
       "4                 2           11          2005          4.0\n",
       "...             ...          ...           ...          ...\n",
       "4393              8            3          2001          4.0\n",
       "4394              8           20          2004          4.0\n",
       "4395             12            8          1982          2.0\n",
       "4396              2            4          2015          2.0\n",
       "4397              9           20          1962          2.0\n",
       "\n",
       "[4398 rows x 4 columns]"
      ]
     },
     "execution_count": 47,
     "metadata": {},
     "output_type": "execute_result"
    }
   ],
   "source": [
    "test_data[['release_month','release_day','release_year','day_of_Week']]"
   ]
  },
  {
   "cell_type": "markdown",
   "id": "444fc0e2",
   "metadata": {},
   "source": [
    "### Year"
   ]
  },
  {
   "cell_type": "code",
   "execution_count": 48,
   "id": "416f65de",
   "metadata": {},
   "outputs": [
    {
     "name": "stderr",
     "output_type": "stream",
     "text": [
      "D:\\Anaconda\\lib\\site-packages\\seaborn\\_decorators.py:36: FutureWarning: Pass the following variable as a keyword arg: x. From version 0.12, the only valid positional argument will be `data`, and passing other arguments without an explicit keyword will result in an error or misinterpretation.\n",
      "  warnings.warn(\n"
     ]
    },
    {
     "data": {
      "image/png": "[encoded data removed]",
      "text/plain": [
       "<Figure size 1440x864 with 1 Axes>"
      ]
     },
     "metadata": {},
     "output_type": "display_data"
    }
   ],
   "source": [
    "plt.figure(figsize=(20,12))\n",
    "edgecolor=(0,0,0),\n",
    "sns.countplot(train_data['release_year'].sort_values(), edgecolor=(0,0,0))\n",
    "plt.title(\"Year\",fontsize=20)\n",
    "plt.xlabel('Year')\n",
    "plt.ylabel('Number of Movies Release')\n",
    "plt.xticks(fontsize=12,rotation=90)\n",
    "plt.show()"
   ]
  },
  {
   "cell_type": "code",
   "execution_count": 49,
   "id": "6f8b46cf",
   "metadata": {},
   "outputs": [
    {
     "data": {
      "image/png": "[encoded data removed]",
      "text/plain": [
       "<Figure size 936x576 with 1 Axes>"
      ]
     },
     "metadata": {},
     "output_type": "display_data"
    }
   ],
   "source": [
    "fig, ax = plt.subplots(figsize=(13,8))\n",
    "ax.scatter(train_data['release_year'][:3000], train_data['revenue'][:3000])\n",
    "revenue = train_data.groupby('release_year')[\"revenue\"]\n",
    "plt.xlabel(\"Year of release\")\n",
    "plt.ylabel(\"revenue\")\n",
    "plt.show()"
   ]
  },
  {
   "cell_type": "code",
   "execution_count": 50,
   "id": "9605b254",
   "metadata": {},
   "outputs": [
    {
     "data": {
      "image/png": "[encoded data removed]",
      "text/plain": [
       "<Figure size 1080x576 with 1 Axes>"
      ]
     },
     "metadata": {},
     "output_type": "display_data"
    }
   ],
   "source": [
    "year = train_data['release_year']\n",
    "revenue = train_data.groupby('release_year')[\"revenue\"].aggregate('mean')\n",
    "fig, ax = plt.subplots(figsize=(15,8))\n",
    "ax.plot(revenue.index,revenue)\n",
    "plt.xlabel(\"Year of release\")\n",
    "plt.ylabel(\"Average revenue\")\n",
    "plt.show()"
   ]
  },
  {
   "cell_type": "code",
   "execution_count": 51,
   "id": "7090dd7c",
   "metadata": {},
   "outputs": [
    {
     "data": {
      "text/plain": [
       "Text(0, 0.5, 'Average revenue')"
      ]
     },
     "execution_count": 51,
     "metadata": {},
     "output_type": "execute_result"
    },
    {
     "data": {
      "image/png": "[encoded data removed]",
      "text/plain": [
       "<Figure size 1440x576 with 2 Axes>"
      ]
     },
     "metadata": {},
     "output_type": "display_data"
    }
   ],
   "source": [
    "fig, ax = plt.subplots(nrows=1, ncols=2, figsize=(20, 8))\n",
    "ax[0].scatter(train_data['release_year'][:3000], train_data['revenue'][:3000])\n",
    "revenue = train_data.groupby('release_year')[\"revenue\"]\n",
    "ax[0].set_xlabel(\"Year of release\")\n",
    "ax[0].set_ylabel(\"revenue\")\n",
    "\n",
    "revenue = train_data.groupby('release_year')[\"revenue\"].aggregate('mean')\n",
    "ax[1].plot(revenue.index,revenue)\n",
    "ax[1].set_xlabel(\"Year of release\")\n",
    "ax[1].set_ylabel(\"Average revenue\")\n"
   ]
  },
  {
   "cell_type": "markdown",
   "id": "486f5558",
   "metadata": {},
   "source": [
    "### Month"
   ]
  },
  {
   "cell_type": "code",
   "execution_count": 52,
   "id": "46d17b79",
   "metadata": {},
   "outputs": [
    {
     "name": "stderr",
     "output_type": "stream",
     "text": [
      "D:\\Anaconda\\lib\\site-packages\\seaborn\\_decorators.py:36: FutureWarning: Pass the following variable as a keyword arg: x. From version 0.12, the only valid positional argument will be `data`, and passing other arguments without an explicit keyword will result in an error or misinterpretation.\n",
      "  warnings.warn(\n"
     ]
    },
    {
     "data": {
      "image/png": "[encoded data removed]",
      "text/plain": [
       "<Figure size 1440x864 with 1 Axes>"
      ]
     },
     "metadata": {},
     "output_type": "display_data"
    }
   ],
   "source": [
    "plt.figure(figsize=(20,12))\n",
    "edgecolor=(0,0,0),\n",
    "sns.countplot(train_data['release_month'].sort_values(), edgecolor=(0,0,0))\n",
    "plt.title(\"Month\",fontsize=20)\n",
    "plt.xlabel('Month')\n",
    "plt.ylabel('Number of Movies Release')\n",
    "plt.xticks(fontsize=15)\n",
    "plt.show()"
   ]
  },
  {
   "cell_type": "code",
   "execution_count": 53,
   "id": "b15b4067",
   "metadata": {},
   "outputs": [
    {
     "data": {
      "text/plain": [
       "(array([ 0.,  2.,  4.,  6.,  8., 10., 12., 14.]),\n",
       " [Text(0, 0, ''),\n",
       "  Text(0, 0, ''),\n",
       "  Text(0, 0, ''),\n",
       "  Text(0, 0, ''),\n",
       "  Text(0, 0, ''),\n",
       "  Text(0, 0, ''),\n",
       "  Text(0, 0, ''),\n",
       "  Text(0, 0, '')])"
      ]
     },
     "execution_count": 53,
     "metadata": {},
     "output_type": "execute_result"
    },
    {
     "data": {
      "image/png": "[encoded data removed]",
      "text/plain": [
       "<Figure size 1080x576 with 1 Axes>"
      ]
     },
     "metadata": {},
     "output_type": "display_data"
    }
   ],
   "source": [
    "fig, ax = plt.subplots(figsize=(15,8))\n",
    "ax.bar(train_data['release_month'][:3000], train_data['revenue'][:3000], alpha=0.5)\n",
    "plt.title(\"Month\",fontsize=20)\n",
    "plt.xlabel('Month')\n",
    "plt.ylabel('revenue')\n",
    "plt.xticks(fontsize=15)"
   ]
  },
  {
   "cell_type": "markdown",
   "id": "70577475",
   "metadata": {},
   "source": [
    "### Week\n"
   ]
  },
  {
   "cell_type": "code",
   "execution_count": 54,
   "id": "691507de",
   "metadata": {},
   "outputs": [
    {
     "name": "stderr",
     "output_type": "stream",
     "text": [
      "D:\\Anaconda\\lib\\site-packages\\seaborn\\_decorators.py:36: FutureWarning: Pass the following variable as a keyword arg: x. From version 0.12, the only valid positional argument will be `data`, and passing other arguments without an explicit keyword will result in an error or misinterpretation.\n",
      "  warnings.warn(\n"
     ]
    },
    {
     "data": {
      "image/png": "[encoded data removed]",
      "text/plain": [
       "<Figure size 1440x864 with 1 Axes>"
      ]
     },
     "metadata": {},
     "output_type": "display_data"
    }
   ],
   "source": [
    "plt.figure(figsize=(20,12))\n",
    "edgecolor=(0,0,0),\n",
    "sns.countplot(train_data['day_of_Week'].sort_values(), edgecolor=(0,0,0))\n",
    "plt.title(\"Week\",fontsize=20)\n",
    "plt.xlabel('Week')\n",
    "plt.ylabel('Number of Movies Release')\n",
    "loc = np.array(range(len(train_data['day_of_Week'].unique())))\n",
    "labels=['Mon','Tue','Wed','Thu','Fri','Sat','Sun']\n",
    "plt.xticks(loc,labels,fontsize=15)\n",
    "plt.show()"
   ]
  },
  {
   "cell_type": "code",
   "execution_count": 55,
   "id": "ab505b39",
   "metadata": {},
   "outputs": [
    {
     "data": {
      "text/plain": [
       "(array([-1.,  0.,  1.,  2.,  3.,  4.,  5.,  6.,  7.]),\n",
       " [Text(0, 0, ''),\n",
       "  Text(0, 0, ''),\n",
       "  Text(0, 0, ''),\n",
       "  Text(0, 0, ''),\n",
       "  Text(0, 0, ''),\n",
       "  Text(0, 0, ''),\n",
       "  Text(0, 0, ''),\n",
       "  Text(0, 0, ''),\n",
       "  Text(0, 0, '')])"
      ]
     },
     "execution_count": 55,
     "metadata": {},
     "output_type": "execute_result"
    },
    {
     "data": {
      "image/png": "[encoded data removed]",
      "text/plain": [
       "<Figure size 1080x576 with 1 Axes>"
      ]
     },
     "metadata": {},
     "output_type": "display_data"
    }
   ],
   "source": [
    "fig, ax = plt.subplots(figsize=(15,8))\n",
    "ax.bar(train_data['day_of_Week'][:3000], train_data['revenue'][:3000], alpha=0.5)\n",
    "plt.title(\"Week\",fontsize=20)\n",
    "plt.xlabel('Week')\n",
    "plt.ylabel('revenue')\n",
    "plt.xticks(fontsize=15)"
   ]
  },
  {
   "cell_type": "markdown",
   "id": "6c61891b",
   "metadata": {},
   "source": [
    "### runtime vs revenue"
   ]
  },
  {
   "cell_type": "code",
   "execution_count": 56,
   "id": "8f149744",
   "metadata": {},
   "outputs": [
    {
     "data": {
      "text/plain": [
       "Text(0, 0.5, 'Number of Movies')"
      ]
     },
     "execution_count": 56,
     "metadata": {},
     "output_type": "execute_result"
    },
    {
     "data": {
      "image/png": "[encoded data removed]",
      "text/plain": [
       "<Figure size 1080x648 with 1 Axes>"
      ]
     },
     "metadata": {},
     "output_type": "display_data"
    }
   ],
   "source": [
    "plt.hist(train_data['runtime'].fillna(0) / 60, bins=35);\n",
    "plt.title('Distribution of length of film in hours', fontsize=12);\n",
    "plt.xlabel('Duration of Movie in Hours')\n",
    "plt.ylabel('Number of Movies')"
   ]
  },
  {
   "cell_type": "code",
   "execution_count": 57,
   "id": "6ab79497",
   "metadata": {},
   "outputs": [
    {
     "data": {
      "text/html": [
       "<style type=\"text/css\">\n",
       "#T_57742_row0_col2, #T_57742_row4_col3, #T_57742_row6_col4 {\n",
       "  background-color: #004529;\n",
       "  color: #f1f1f1;\n",
       "}\n",
       "#T_57742_row0_col3 {\n",
       "  background-color: #c9e99c;\n",
       "  color: #000000;\n",
       "}\n",
       "#T_57742_row0_col4, #T_57742_row7_col3, #T_57742_row7_col4, #T_57742_row9_col2 {\n",
       "  background-color: #ffffe5;\n",
       "  color: #000000;\n",
       "}\n",
       "#T_57742_row1_col2 {\n",
       "  background-color: #b2df90;\n",
       "  color: #000000;\n",
       "}\n",
       "#T_57742_row1_col3 {\n",
       "  background-color: #66bd70;\n",
       "  color: #f1f1f1;\n",
       "}\n",
       "#T_57742_row1_col4 {\n",
       "  background-color: #7fc97c;\n",
       "  color: #000000;\n",
       "}\n",
       "#T_57742_row2_col2 {\n",
       "  background-color: #eef9b3;\n",
       "  color: #000000;\n",
       "}\n",
       "#T_57742_row2_col3 {\n",
       "  background-color: #e4f4ab;\n",
       "  color: #000000;\n",
       "}\n",
       "#T_57742_row2_col4 {\n",
       "  background-color: #0b713b;\n",
       "  color: #f1f1f1;\n",
       "}\n",
       "#T_57742_row3_col2 {\n",
       "  background-color: #f0f9b4;\n",
       "  color: #000000;\n",
       "}\n",
       "#T_57742_row3_col3 {\n",
       "  background-color: #1a7d40;\n",
       "  color: #f1f1f1;\n",
       "}\n",
       "#T_57742_row3_col4 {\n",
       "  background-color: #feffde;\n",
       "  color: #000000;\n",
       "}\n",
       "#T_57742_row4_col2, #T_57742_row5_col3 {\n",
       "  background-color: #f7fcbc;\n",
       "  color: #000000;\n",
       "}\n",
       "#T_57742_row4_col4 {\n",
       "  background-color: #fafdc8;\n",
       "  color: #000000;\n",
       "}\n",
       "#T_57742_row5_col2 {\n",
       "  background-color: #f8fcbd;\n",
       "  color: #000000;\n",
       "}\n",
       "#T_57742_row5_col4 {\n",
       "  background-color: #f9fdc7;\n",
       "  color: #000000;\n",
       "}\n",
       "#T_57742_row6_col2 {\n",
       "  background-color: #f8fcc0;\n",
       "  color: #000000;\n",
       "}\n",
       "#T_57742_row6_col3 {\n",
       "  background-color: #dcf1a5;\n",
       "  color: #000000;\n",
       "}\n",
       "#T_57742_row7_col2 {\n",
       "  background-color: #fafdcc;\n",
       "  color: #000000;\n",
       "}\n",
       "#T_57742_row8_col2 {\n",
       "  background-color: #feffe1;\n",
       "  color: #000000;\n",
       "}\n",
       "#T_57742_row8_col3 {\n",
       "  background-color: #fdfed9;\n",
       "  color: #000000;\n",
       "}\n",
       "#T_57742_row8_col4 {\n",
       "  background-color: #fdfedb;\n",
       "  color: #000000;\n",
       "}\n",
       "#T_57742_row9_col3 {\n",
       "  background-color: #e9f6af;\n",
       "  color: #000000;\n",
       "}\n",
       "#T_57742_row9_col4 {\n",
       "  background-color: #9fd788;\n",
       "  color: #000000;\n",
       "}\n",
       "</style>\n",
       "<table id=\"T_57742_\">\n",
       "  <thead>\n",
       "    <tr>\n",
       "      <th class=\"blank level0\" >&nbsp;</th>\n",
       "      <th class=\"col_heading level0 col0\" >id</th>\n",
       "      <th class=\"col_heading level0 col1\" >title</th>\n",
       "      <th class=\"col_heading level0 col2\" >runtime</th>\n",
       "      <th class=\"col_heading level0 col3\" >budget</th>\n",
       "      <th class=\"col_heading level0 col4\" >revenue</th>\n",
       "    </tr>\n",
       "  </thead>\n",
       "  <tbody>\n",
       "    <tr>\n",
       "      <th id=\"T_57742_level0_row0\" class=\"row_heading level0 row0\" >1211</th>\n",
       "      <td id=\"T_57742_row0_col0\" class=\"data row0 col0\" >1212</td>\n",
       "      <td id=\"T_57742_row0_col1\" class=\"data row0 col1\" >Carlos</td>\n",
       "      <td id=\"T_57742_row0_col2\" class=\"data row0 col2\" >338.000000</td>\n",
       "      <td id=\"T_57742_row0_col3\" class=\"data row0 col3\" >18000000</td>\n",
       "      <td id=\"T_57742_row0_col4\" class=\"data row0 col4\" >871279</td>\n",
       "    </tr>\n",
       "    <tr>\n",
       "      <th id=\"T_57742_level0_row1\" class=\"row_heading level0 row1\" >1922</th>\n",
       "      <td id=\"T_57742_row1_col0\" class=\"data row1 col0\" >1923</td>\n",
       "      <td id=\"T_57742_row1_col1\" class=\"data row1 col1\" >Cleopatra</td>\n",
       "      <td id=\"T_57742_row1_col2\" class=\"data row1 col2\" >248.000000</td>\n",
       "      <td id=\"T_57742_row1_col3\" class=\"data row1 col3\" >31115000</td>\n",
       "      <td id=\"T_57742_row1_col4\" class=\"data row1 col4\" >71000000</td>\n",
       "    </tr>\n",
       "    <tr>\n",
       "      <th id=\"T_57742_level0_row2\" class=\"row_heading level0 row2\" >523</th>\n",
       "      <td id=\"T_57742_row2_col0\" class=\"data row2 col0\" >524</td>\n",
       "      <td id=\"T_57742_row2_col1\" class=\"data row2 col1\" >The Ten Commandments</td>\n",
       "      <td id=\"T_57742_row2_col2\" class=\"data row2 col2\" >220.000000</td>\n",
       "      <td id=\"T_57742_row2_col3\" class=\"data row2 col3\" >13000000</td>\n",
       "      <td id=\"T_57742_row2_col4\" class=\"data row2 col4\" >122700000</td>\n",
       "    </tr>\n",
       "    <tr>\n",
       "      <th id=\"T_57742_level0_row3\" class=\"row_heading level0 row3\" >1302</th>\n",
       "      <td id=\"T_57742_row3_col0\" class=\"data row3 col0\" >1303</td>\n",
       "      <td id=\"T_57742_row3_col1\" class=\"data row3 col1\" >Heaven's Gate</td>\n",
       "      <td id=\"T_57742_row3_col2\" class=\"data row3 col2\" >219.000000</td>\n",
       "      <td id=\"T_57742_row3_col3\" class=\"data row3 col3\" >44000000</td>\n",
       "      <td id=\"T_57742_row3_col4\" class=\"data row3 col4\" >3484331</td>\n",
       "    </tr>\n",
       "    <tr>\n",
       "      <th id=\"T_57742_level0_row4\" class=\"row_heading level0 row4\" >1914</th>\n",
       "      <td id=\"T_57742_row4_col0\" class=\"data row4 col0\" >1915</td>\n",
       "      <td id=\"T_57742_row4_col1\" class=\"data row4 col1\" >Gods and Generals</td>\n",
       "      <td id=\"T_57742_row4_col2\" class=\"data row4 col2\" >214.000000</td>\n",
       "      <td id=\"T_57742_row4_col3\" class=\"data row4 col3\" >56000000</td>\n",
       "      <td id=\"T_57742_row4_col4\" class=\"data row4 col4\" >12923936</td>\n",
       "    </tr>\n",
       "    <tr>\n",
       "      <th id=\"T_57742_level0_row5\" class=\"row_heading level0 row5\" >2353</th>\n",
       "      <td id=\"T_57742_row5_col0\" class=\"data row5 col0\" >2354</td>\n",
       "      <td id=\"T_57742_row5_col1\" class=\"data row5 col1\" >Jodhaa Akbar</td>\n",
       "      <td id=\"T_57742_row5_col2\" class=\"data row5 col2\" >213.000000</td>\n",
       "      <td id=\"T_57742_row5_col3\" class=\"data row5 col3\" >8376800</td>\n",
       "      <td id=\"T_57742_row5_col4\" class=\"data row5 col4\" >13000000</td>\n",
       "    </tr>\n",
       "    <tr>\n",
       "      <th id=\"T_57742_level0_row6\" class=\"row_heading level0 row6\" >625</th>\n",
       "      <td id=\"T_57742_row6_col0\" class=\"data row6 col0\" >626</td>\n",
       "      <td id=\"T_57742_row6_col1\" class=\"data row6 col1\" >Ben-Hur</td>\n",
       "      <td id=\"T_57742_row6_col2\" class=\"data row6 col2\" >212.000000</td>\n",
       "      <td id=\"T_57742_row6_col3\" class=\"data row6 col3\" >15000000</td>\n",
       "      <td id=\"T_57742_row6_col4\" class=\"data row6 col4\" >146900000</td>\n",
       "    </tr>\n",
       "    <tr>\n",
       "      <th id=\"T_57742_level0_row7\" class=\"row_heading level0 row7\" >1975</th>\n",
       "      <td id=\"T_57742_row7_col0\" class=\"data row7 col0\" >1976</td>\n",
       "      <td id=\"T_57742_row7_col1\" class=\"data row7 col1\" >Chapiteau-Show</td>\n",
       "      <td id=\"T_57742_row7_col2\" class=\"data row7 col2\" >207.000000</td>\n",
       "      <td id=\"T_57742_row7_col3\" class=\"data row7 col3\" >2000000</td>\n",
       "      <td id=\"T_57742_row7_col4\" class=\"data row7 col4\" >393816</td>\n",
       "    </tr>\n",
       "    <tr>\n",
       "      <th id=\"T_57742_level0_row8\" class=\"row_heading level0 row8\" >1731</th>\n",
       "      <td id=\"T_57742_row8_col0\" class=\"data row8 col0\" >1732</td>\n",
       "      <td id=\"T_57742_row8_col1\" class=\"data row8 col1\" >Hey Ram</td>\n",
       "      <td id=\"T_57742_row8_col2\" class=\"data row8 col2\" >199.000000</td>\n",
       "      <td id=\"T_57742_row8_col3\" class=\"data row8 col3\" >3900000</td>\n",
       "      <td id=\"T_57742_row8_col4\" class=\"data row8 col4\" >4900000</td>\n",
       "    </tr>\n",
       "    <tr>\n",
       "      <th id=\"T_57742_level0_row9\" class=\"row_heading level0 row9\" >2120</th>\n",
       "      <td id=\"T_57742_row9_col0\" class=\"data row9 col0\" >2121</td>\n",
       "      <td id=\"T_57742_row9_col1\" class=\"data row9 col1\" >Spartacus</td>\n",
       "      <td id=\"T_57742_row9_col2\" class=\"data row9 col2\" >197.000000</td>\n",
       "      <td id=\"T_57742_row9_col3\" class=\"data row9 col3\" >12000000</td>\n",
       "      <td id=\"T_57742_row9_col4\" class=\"data row9 col4\" >60000000</td>\n",
       "    </tr>\n",
       "  </tbody>\n",
       "</table>\n"
      ],
      "text/plain": [
       "<pandas.io.formats.style.Styler at 0x2348c7ec8e0>"
      ]
     },
     "execution_count": 57,
     "metadata": {},
     "output_type": "execute_result"
    }
   ],
   "source": [
    "train_data[['id','title','runtime', 'budget', 'revenue']].sort_values(['runtime'],ascending=False).head(10).style.background_gradient(subset=['runtime','budget','revenue'], cmap='YlGn')"
   ]
  },
  {
   "cell_type": "code",
   "execution_count": 58,
   "id": "0e4ce81a",
   "metadata": {},
   "outputs": [
    {
     "data": {
      "text/plain": [
       "(3000, 18)"
      ]
     },
     "execution_count": 58,
     "metadata": {},
     "output_type": "execute_result"
    }
   ],
   "source": [
    "train_data.shape"
   ]
  },
  {
   "cell_type": "code",
   "execution_count": 59,
   "id": "ccae857a",
   "metadata": {},
   "outputs": [
    {
     "name": "stdout",
     "output_type": "stream",
     "text": [
      "<class 'pandas.core.frame.DataFrame'>\n",
      "RangeIndex: 3000 entries, 0 to 2999\n",
      "Data columns (total 18 columns):\n",
      " #   Column                Non-Null Count  Dtype  \n",
      "---  ------                --------------  -----  \n",
      " 0   id                    3000 non-null   int64  \n",
      " 1   budget                3000 non-null   int64  \n",
      " 2   genres                2993 non-null   object \n",
      " 3   original_language     3000 non-null   object \n",
      " 4   popularity            3000 non-null   float64\n",
      " 5   production_companies  2844 non-null   object \n",
      " 6   production_countries  2945 non-null   object \n",
      " 7   release_date          3000 non-null   object \n",
      " 8   runtime               3000 non-null   float64\n",
      " 9   spoken_languages      2980 non-null   object \n",
      " 10  status                3000 non-null   object \n",
      " 11  title                 3000 non-null   object \n",
      " 12  cast                  2987 non-null   object \n",
      " 13  revenue               3000 non-null   int64  \n",
      " 14  release_month         3000 non-null   int32  \n",
      " 15  release_day           3000 non-null   int32  \n",
      " 16  release_year          3000 non-null   int32  \n",
      " 17  day_of_Week           3000 non-null   int64  \n",
      "dtypes: float64(2), int32(3), int64(4), object(9)\n",
      "memory usage: 386.8+ KB\n"
     ]
    }
   ],
   "source": [
    "train_data.info()"
   ]
  },
  {
   "cell_type": "code",
   "execution_count": 60,
   "id": "57dee0af",
   "metadata": {},
   "outputs": [
    {
     "data": {
      "text/plain": [
       "(4398, 17)"
      ]
     },
     "execution_count": 60,
     "metadata": {},
     "output_type": "execute_result"
    }
   ],
   "source": [
    "test_data.shape"
   ]
  },
  {
   "cell_type": "code",
   "execution_count": 61,
   "id": "134412ef",
   "metadata": {},
   "outputs": [],
   "source": [
    "train_data['log_revenue'] = np.log(train_data['revenue'])"
   ]
  },
  {
   "cell_type": "code",
   "execution_count": 62,
   "id": "1ab1200a",
   "metadata": {},
   "outputs": [],
   "source": [
    "# feature_names = ['release_year', 'release_day', 'release_month', 'status', 'original_language',\n",
    "#                  'budget', 'popularity', 'genres_count', 'production_companies', 'production_countries',\n",
    "#                 'spoken_languages_count', 'cast_count', 'crew_count', 'runtime']\n",
    "feature_names = ['release_year', 'release_day', 'release_month',\n",
    "                 'budget', 'popularity', 'runtime']"
   ]
  },
  {
   "cell_type": "code",
   "execution_count": 63,
   "id": "bb9b7d93",
   "metadata": {},
   "outputs": [],
   "source": [
    "X_data=train_data[feature_names]\n",
    "y_data=np.array(train_data['log_revenue'])"
   ]
  },
  {
   "cell_type": "code",
   "execution_count": 64,
   "id": "5d0bc160",
   "metadata": {},
   "outputs": [
    {
     "data": {
      "text/plain": [
       "array([16.32630025, 18.37095921, 16.38751191, ..., 18.30926595,\n",
       "       18.96279214, 18.22329211])"
      ]
     },
     "execution_count": 64,
     "metadata": {},
     "output_type": "execute_result"
    }
   ],
   "source": [
    "y_data"
   ]
  },
  {
   "cell_type": "code",
   "execution_count": 65,
   "id": "1b4efa37",
   "metadata": {},
   "outputs": [
    {
     "data": {
      "text/plain": [
       "(3000,)"
      ]
     },
     "execution_count": 65,
     "metadata": {},
     "output_type": "execute_result"
    }
   ],
   "source": [
    "y_data.shape"
   ]
  },
  {
   "cell_type": "code",
   "execution_count": 66,
   "id": "3db14dfc",
   "metadata": {},
   "outputs": [],
   "source": [
    "from sklearn.model_selection import train_test_split\n",
    "\n",
    "X_train,X_test,y_train,y_test=train_test_split(X_data,y_data,test_size=0.2, random_state=0)"
   ]
  },
  {
   "cell_type": "code",
   "execution_count": 67,
   "id": "7a8a98d6",
   "metadata": {},
   "outputs": [],
   "source": [
    "from sklearn.ensemble import RandomForestRegressor"
   ]
  },
  {
   "cell_type": "code",
   "execution_count": 68,
   "id": "d1c17b09",
   "metadata": {},
   "outputs": [],
   "source": [
    "rf=RandomForestRegressor(n_estimators=100, random_state=0)"
   ]
  },
  {
   "cell_type": "code",
   "execution_count": 69,
   "id": "a5c09c57",
   "metadata": {},
   "outputs": [
    {
     "data": {
      "text/plain": [
       "RandomForestRegressor(random_state=0)"
      ]
     },
     "execution_count": 69,
     "metadata": {},
     "output_type": "execute_result"
    }
   ],
   "source": [
    "rf.fit(X_train,y_train)"
   ]
  },
  {
   "cell_type": "code",
   "execution_count": 72,
   "id": "d933a74f",
   "metadata": {},
   "outputs": [],
   "source": [
    "from sklearn.metrics import mean_absolute_error"
   ]
  },
  {
   "cell_type": "code",
   "execution_count": 73,
   "id": "f9084eb1",
   "metadata": {},
   "outputs": [
    {
     "data": {
      "text/plain": [
       "1.4898738044207505"
      ]
     },
     "execution_count": 73,
     "metadata": {},
     "output_type": "execute_result"
    }
   ],
   "source": [
    "# Calculate MAE \n",
    "mae_rf = mean_absolute_error(y_pre, y_test)\n",
    "mae_rf"
   ]
  },
  {
   "cell_type": "code",
   "execution_count": null,
   "id": "0ac3a39f",
   "metadata": {},
   "outputs": [],
   "source": []
  },
  {
   "cell_type": "code",
   "execution_count": null,
   "id": "ee9031aa",
   "metadata": {},
   "outputs": [],
   "source": []
  },
  {
   "cell_type": "code",
   "execution_count": null,
   "id": "8b478a8e",
   "metadata": {},
   "outputs": [],
   "source": []
  },
  {
   "cell_type": "code",
   "execution_count": null,
   "id": "69af2c1c",
   "metadata": {},
   "outputs": [],
   "source": []
  }
 ],
 "metadata": {
  "kernelspec": {
   "display_name": "Python 3 (ipykernel)",
   "language": "python",
   "name": "python3"
  },
  "language_info": {
   "codemirror_mode": {
    "name": "ipython",
    "version": 3
   },
   "file_extension": ".py",
   "mimetype": "text/x-python",
   "name": "python",
   "nbconvert_exporter": "python",
   "pygments_lexer": "ipython3",
   "version": "3.9.7"
  }
 },
 "nbformat": 4,
 "nbformat_minor": 5
}
