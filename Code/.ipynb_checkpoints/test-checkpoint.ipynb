{
 "cells": [
  {
   "cell_type": "code",
   "execution_count": 1,
   "id": "92a65852",
   "metadata": {},
   "outputs": [],
   "source": [
    "import matplotlib.pyplot as plt\n",
    "import numpy as np\n",
    "import pandas as pd\n",
    "import seaborn as sns\n",
    "import re\n",
    "import time\n",
    "import datetime\n",
    "from collections import defaultdict\n",
    "import ast\n",
    "from math import sqrt"
   ]
  },
  {
   "cell_type": "code",
   "execution_count": 2,
   "id": "45b2fc39",
   "metadata": {},
   "outputs": [],
   "source": [
    "train_data = pd.read_csv('../data/train.csv')\n",
    "submission = pd.read_csv('../data/sample_submission.csv')"
   ]
  },
  {
   "cell_type": "code",
   "execution_count": 3,
   "id": "bd0ce2ae",
   "metadata": {},
   "outputs": [],
   "source": [
    "from sklearn.preprocessing import LabelEncoder\n",
    "le=LabelEncoder()\n",
    "#处理original_language\n",
    "train_data['original_language']=le.fit_transform(train_data['original_language'])\n",
    "#处理runtime\n",
    "train_data['runtime']=le.fit_transform(train_data['runtime'])\n",
    "#处理crew\n",
    "train_data['crew_size'] = train_data['crew'].apply(lambda y: {} if pd.isnull(y) else sorted(map(lambda x: x['name'], eval(y)))).apply(lambda x: len(x))\n",
    "#处理cast\n",
    "cast_gender = train_data['cast'].apply(lambda y: {} if pd.isnull(y) else sorted(map(lambda x: x['gender'], eval(y))))\n",
    "train_data['log_revenue'] = np.log(train_data['revenue'])"
   ]
  },
  {
   "cell_type": "code",
   "execution_count": null,
   "id": "7ef4827a",
   "metadata": {},
   "outputs": [],
   "source": []
  },
  {
   "cell_type": "code",
   "execution_count": 4,
   "id": "5efda37e",
   "metadata": {},
   "outputs": [],
   "source": [
    "train_data['runtime'].fillna(6000000, inplace=True)"
   ]
  },
  {
   "cell_type": "code",
   "execution_count": 5,
   "id": "9190568a",
   "metadata": {},
   "outputs": [],
   "source": [
    "#Extract release_date\n",
    "train_data[['release_month', 'release_day', 'release_year']] = train_data['release_date'].str.split('/', expand = True).replace(np.nan, -1)\n",
    "train_data['release_month'] = train_data['release_month'].astype(int)\n",
    "train_data['release_day'] = train_data['release_day'].astype(int)\n",
    "train_data['release_year'] = train_data['release_year'].astype(int)\n",
    "train_data['day_of_Week'] = (pd.to_datetime(train_data[\"release_date\"]).dt.dayofweek)\n",
    "train_data.loc[(train_data['release_year'] <= 19) & (train_data['release_year'] < 100), \"release_year\"] += 2000\n",
    "train_data.loc[(train_data['release_year'] > 19)  & (train_data['release_year'] < 100), \"release_year\"] += 1900   "
   ]
  },
  {
   "cell_type": "code",
   "execution_count": 6,
   "id": "0334c891",
   "metadata": {},
   "outputs": [],
   "source": [
    "data_companies = train_data['production_companies'].apply(lambda y: {} if pd.isnull(y) else sorted(map(lambda x: x['name'], eval(y)))).map(lambda x: ','.join(map(str, x)))\n",
    "data_companies = data_companies.str.get_dummies(sep=',')\n",
    "number_companies = data_companies.sum(axis=1)\n",
    "train_data['number_companies'] = number_companies"
   ]
  },
  {
   "cell_type": "code",
   "execution_count": 7,
   "id": "da5f4d3c",
   "metadata": {},
   "outputs": [
    {
     "data": {
      "text/plain": [
       "(3000, 30)"
      ]
     },
     "execution_count": 7,
     "metadata": {},
     "output_type": "execute_result"
    }
   ],
   "source": [
    "train_data.shape"
   ]
  },
  {
   "cell_type": "code",
   "execution_count": 8,
   "id": "b94f4e2c",
   "metadata": {},
   "outputs": [],
   "source": [
    "feature_names = ['release_year', 'release_day', 'release_month', 'original_language',\n",
    "                 'budget', 'popularity', 'runtime','number_companies','crew_size']"
   ]
  },
  {
   "cell_type": "code",
   "execution_count": 9,
   "id": "dc5386e9",
   "metadata": {},
   "outputs": [
    {
     "data": {
      "text/plain": [
       "(3000, 9)"
      ]
     },
     "execution_count": 9,
     "metadata": {},
     "output_type": "execute_result"
    }
   ],
   "source": [
    "X=train_data[feature_names]\n",
    "y=np.array(train_data['log_revenue'])\n",
    "X.shape"
   ]
  },
  {
   "cell_type": "code",
   "execution_count": 10,
   "id": "182fa2f6",
   "metadata": {},
   "outputs": [],
   "source": [
    "from sklearn.metrics import mean_absolute_error\n",
    "from sklearn.ensemble import RandomForestRegressor\n",
    "from sklearn.model_selection import train_test_split\n",
    "X_train,X_test,y_train,y_test=train_test_split(X,y,test_size=0.2, random_state=0)\n",
    "\n",
    "model=RandomForestRegressor(random_state=1)"
   ]
  },
  {
   "cell_type": "code",
   "execution_count": 11,
   "id": "bbb321bd",
   "metadata": {},
   "outputs": [
    {
     "data": {
      "text/plain": [
       "RandomForestRegressor(random_state=1)"
      ]
     },
     "execution_count": 11,
     "metadata": {},
     "output_type": "execute_result"
    }
   ],
   "source": [
    "model.fit(X_train,y_train)"
   ]
  },
  {
   "cell_type": "code",
   "execution_count": 12,
   "id": "b4d0c30d",
   "metadata": {},
   "outputs": [],
   "source": [
    "y_pre=model.predict(X_test)"
   ]
  },
  {
   "cell_type": "code",
   "execution_count": 13,
   "id": "e4905b50",
   "metadata": {},
   "outputs": [
    {
     "name": "stdout",
     "output_type": "stream",
     "text": [
      "1.19728144561282\n"
     ]
    }
   ],
   "source": [
    "print(sqrt(mean_absolute_error(y_pre,y_test)))"
   ]
  },
  {
   "cell_type": "code",
   "execution_count": 14,
   "id": "87fe4313",
   "metadata": {},
   "outputs": [
    {
     "data": {
      "text/plain": [
       "0.9278841417943807"
      ]
     },
     "execution_count": 14,
     "metadata": {},
     "output_type": "execute_result"
    }
   ],
   "source": [
    "score=model.score(X_train,y_train)\n",
    "score"
   ]
  },
  {
   "cell_type": "code",
   "execution_count": 15,
   "id": "afa382da",
   "metadata": {},
   "outputs": [
    {
     "data": {
      "text/plain": [
       "0.4823094544681238"
      ]
     },
     "execution_count": 15,
     "metadata": {},
     "output_type": "execute_result"
    }
   ],
   "source": [
    "score=model.score(X_test,y_test)\n",
    "score"
   ]
  },
  {
   "cell_type": "code",
   "execution_count": 16,
   "id": "ac9af1f5",
   "metadata": {},
   "outputs": [],
   "source": [
    "# test sample\n",
    "test_data = pd.read_csv('../data/test.csv')"
   ]
  },
  {
   "cell_type": "code",
   "execution_count": 17,
   "id": "55fd11e8",
   "metadata": {},
   "outputs": [
    {
     "name": "stderr",
     "output_type": "stream",
     "text": [
      "C:\\Users\\Lucas\\AppData\\Local\\Temp/ipykernel_17024/3446786344.py:11: DeprecationWarning: The default dtype for empty Series will be 'object' instead of 'float64' in a future version. Specify a dtype explicitly to silence this warning.\n",
      "  test_data['cast_female_count']  = cast_gender.apply(lambda x: (pd.Series(x)==1).sum())\n",
      "C:\\Users\\Lucas\\AppData\\Local\\Temp/ipykernel_17024/3446786344.py:12: DeprecationWarning: The default dtype for empty Series will be 'object' instead of 'float64' in a future version. Specify a dtype explicitly to silence this warning.\n",
      "  test_data['cast_male_count'] = cast_gender.apply(lambda x: (pd.Series(x)==2).sum())\n"
     ]
    }
   ],
   "source": [
    "from sklearn.preprocessing import LabelEncoder\n",
    "le=LabelEncoder()\n",
    "#处理original_language\n",
    "test_data['original_language']=le.fit_transform(test_data['original_language'])\n",
    "#处理runtime\n",
    "test_data['runtime']=le.fit_transform(test_data['runtime'])\n",
    "#处理crew\n",
    "test_data['crew_size'] = test_data['crew'].apply(lambda y: {} if pd.isnull(y) else sorted(map(lambda x: x['name'], eval(y)))).apply(lambda x: len(x))\n",
    "#处理cast\n",
    "cast_gender = train_data['cast'].apply(lambda y: {} if pd.isnull(y) else sorted(map(lambda x: x['gender'], eval(y))))\n",
    "test_data['cast_female_count']  = cast_gender.apply(lambda x: (pd.Series(x)==1).sum())\n",
    "test_data['cast_male_count'] = cast_gender.apply(lambda x: (pd.Series(x)==2).sum())"
   ]
  },
  {
   "cell_type": "code",
   "execution_count": 18,
   "id": "f1b3819a",
   "metadata": {},
   "outputs": [],
   "source": [
    "test_data['runtime'].fillna(6000000, inplace=True)"
   ]
  },
  {
   "cell_type": "code",
   "execution_count": 19,
   "id": "dc8ec243",
   "metadata": {},
   "outputs": [],
   "source": [
    "#Extract release_date\n",
    "test_data[['release_month', 'release_day', 'release_year']] = test_data['release_date'].str.split('/', expand = True).replace(np.nan, -1)\n",
    "test_data['release_month'] = test_data['release_month'].astype(int)\n",
    "test_data['release_day'] = test_data['release_day'].astype(int)\n",
    "test_data['release_year'] = test_data['release_year'].astype(int)\n",
    "test_data['day_of_Week'] = (pd.to_datetime(test_data[\"release_date\"]).dt.dayofweek)\n",
    "test_data.loc[(test_data['release_year'] <= 19) & (test_data['release_year'] < 100), \"release_year\"] += 2000\n",
    "test_data.loc[(test_data['release_year'] > 19)  & (test_data['release_year'] < 100), \"release_year\"] += 1900 \n",
    "data_companies = test_data['production_companies'].apply(lambda y: {} if pd.isnull(y) else sorted(map(lambda x: x['name'], eval(y)))).map(lambda x: ','.join(map(str, x)))\n",
    "data_companies = data_companies.str.get_dummies(sep=',')\n",
    "number_companies = data_companies.sum(axis=1)\n",
    "test_data['number_companies'] = number_companies"
   ]
  },
  {
   "cell_type": "code",
   "execution_count": 20,
   "id": "0d19c7aa",
   "metadata": {},
   "outputs": [
    {
     "data": {
      "text/plain": [
       "(4398, 30)"
      ]
     },
     "execution_count": 20,
     "metadata": {},
     "output_type": "execute_result"
    }
   ],
   "source": [
    "test_data.shape"
   ]
  },
  {
   "cell_type": "code",
   "execution_count": 25,
   "id": "8feff43a",
   "metadata": {},
   "outputs": [],
   "source": [
    "X_test=test_data[feature_names]"
   ]
  },
  {
   "cell_type": "code",
   "execution_count": 34,
   "id": "7837ab85",
   "metadata": {},
   "outputs": [
    {
     "data": {
      "text/plain": [
       "array([  642368.04076839,   571171.02331857,  8042705.92874621, ...,\n",
       "       57837122.02900999,  1459578.50278949,   862970.64694829])"
      ]
     },
     "execution_count": 34,
     "metadata": {},
     "output_type": "execute_result"
    }
   ],
   "source": [
    "y_prediction=model.predict(X_test)\n",
    "y_prediction=np.expm1(y_prediction)\n",
    "y_prediction"
   ]
  },
  {
   "cell_type": "code",
   "execution_count": 35,
   "id": "836270e3",
   "metadata": {},
   "outputs": [
    {
     "data": {
      "text/html": [
       "<div>\n",
       "<style scoped>\n",
       "    .dataframe tbody tr th:only-of-type {\n",
       "        vertical-align: middle;\n",
       "    }\n",
       "\n",
       "    .dataframe tbody tr th {\n",
       "        vertical-align: top;\n",
       "    }\n",
       "\n",
       "    .dataframe thead th {\n",
       "        text-align: right;\n",
       "    }\n",
       "</style>\n",
       "<table border=\"1\" class=\"dataframe\">\n",
       "  <thead>\n",
       "    <tr style=\"text-align: right;\">\n",
       "      <th></th>\n",
       "      <th>0</th>\n",
       "    </tr>\n",
       "  </thead>\n",
       "  <tbody>\n",
       "    <tr>\n",
       "      <th>0</th>\n",
       "      <td>6.423680e+05</td>\n",
       "    </tr>\n",
       "    <tr>\n",
       "      <th>1</th>\n",
       "      <td>5.711710e+05</td>\n",
       "    </tr>\n",
       "    <tr>\n",
       "      <th>2</th>\n",
       "      <td>8.042706e+06</td>\n",
       "    </tr>\n",
       "    <tr>\n",
       "      <th>3</th>\n",
       "      <td>8.784395e+06</td>\n",
       "    </tr>\n",
       "    <tr>\n",
       "      <th>4</th>\n",
       "      <td>3.904903e+05</td>\n",
       "    </tr>\n",
       "    <tr>\n",
       "      <th>...</th>\n",
       "      <td>...</td>\n",
       "    </tr>\n",
       "    <tr>\n",
       "      <th>4393</th>\n",
       "      <td>1.211966e+08</td>\n",
       "    </tr>\n",
       "    <tr>\n",
       "      <th>4394</th>\n",
       "      <td>1.797541e+07</td>\n",
       "    </tr>\n",
       "    <tr>\n",
       "      <th>4395</th>\n",
       "      <td>5.783712e+07</td>\n",
       "    </tr>\n",
       "    <tr>\n",
       "      <th>4396</th>\n",
       "      <td>1.459579e+06</td>\n",
       "    </tr>\n",
       "    <tr>\n",
       "      <th>4397</th>\n",
       "      <td>8.629706e+05</td>\n",
       "    </tr>\n",
       "  </tbody>\n",
       "</table>\n",
       "<p>4398 rows × 1 columns</p>\n",
       "</div>"
      ],
      "text/plain": [
       "                 0\n",
       "0     6.423680e+05\n",
       "1     5.711710e+05\n",
       "2     8.042706e+06\n",
       "3     8.784395e+06\n",
       "4     3.904903e+05\n",
       "...            ...\n",
       "4393  1.211966e+08\n",
       "4394  1.797541e+07\n",
       "4395  5.783712e+07\n",
       "4396  1.459579e+06\n",
       "4397  8.629706e+05\n",
       "\n",
       "[4398 rows x 1 columns]"
      ]
     },
     "execution_count": 35,
     "metadata": {},
     "output_type": "execute_result"
    }
   ],
   "source": [
    "pred = pd.DataFrame(y_prediction)\n",
    "pred"
   ]
  },
  {
   "cell_type": "code",
   "execution_count": 36,
   "id": "24c83dba",
   "metadata": {},
   "outputs": [],
   "source": [
    "datasets = pd.concat([submission['id'], pred], axis=1)\n",
    "datasets.columns =['id', 'revenue']\n",
    "datasets.to_csv('../data/sample_submission.csv', index=False)"
   ]
  },
  {
   "cell_type": "code",
   "execution_count": null,
   "id": "4e234580",
   "metadata": {},
   "outputs": [],
   "source": []
  }
 ],
 "metadata": {
  "kernelspec": {
   "display_name": "Python 3 (ipykernel)",
   "language": "python",
   "name": "python3"
  },
  "language_info": {
   "codemirror_mode": {
    "name": "ipython",
    "version": 3
   },
   "file_extension": ".py",
   "mimetype": "text/x-python",
   "name": "python",
   "nbconvert_exporter": "python",
   "pygments_lexer": "ipython3",
   "version": "3.9.7"
  }
 },
 "nbformat": 4,
 "nbformat_minor": 5
}
